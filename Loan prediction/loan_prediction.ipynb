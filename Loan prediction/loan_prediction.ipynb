{
  "cells": [
    {
      "metadata": {
        "_uuid": "5f8e98b57d1ebecc6e39a7d6363bbd4d701f6b6d"
      },
      "cell_type": "markdown",
      "source": "![Loan Prediction](./imgs/header.png \"Loan Prediction\")"
    },
    {
      "metadata": {
        "_uuid": "928a2d8192995ca29f4d41bb303cd3ff133cc9ee"
      },
      "cell_type": "markdown",
      "source": "# Data Science Approach"
    },
    {
      "metadata": {
        "_uuid": "5b51f0e380cda58c3ef360549f282ff7ef37b8a8"
      },
      "cell_type": "markdown",
      "source": "-  Problem understanding\n-  Data understanding\n-  Exploratory data analysis\n-  Data Pre-processing\n-  Feature engineering\n-  Model building\n-  Model Evaluation\n"
    },
    {
      "metadata": {
        "_uuid": "7a57c730ae18b98ca1fbceee2761dd2253c7c87e"
      },
      "cell_type": "markdown",
      "source": "## Problem Statement\n#### A Company wants to automate the loan eligibility process (real time) based on customer detail provided while filling online application form. These details are Gender, Marital Status, Education, Number of Dependents, Income, Loan Amount, Credit History and others. To automate this process, they have given a problem to classify the customers, which are eligible for loan amount. The challenge is to predict approval status of loan (Approved/Reject)."
    },
    {
      "metadata": {
        "_uuid": "45c46289fc33f9a93ab354f3f508043631546a8f"
      },
      "cell_type": "markdown",
      "source": "# Problem Understanding\n"
    },
    {
      "metadata": {
        "_uuid": "9e532e42e62da59d654a406793c217bd20ccd35a"
      },
      "cell_type": "markdown",
      "source": ""
    },
    {
      "metadata": {
        "_uuid": "5d654f2cd295ac8ffb089137ea97ea2346efede7"
      },
      "cell_type": "markdown",
      "source": "# Data Understanding"
    },
    {
      "metadata": {
        "_uuid": "636769a78432912e736cc8c05c66c48a0dff5166"
      },
      "cell_type": "markdown",
      "source": "|Variable Name | Meaning\n| :---      | --:\t\n|Variable  \t|   \tDescription\n|Loan_ID   \t|   \tUnique Loan ID\n|Gender   \t|   \tMale/ Female\n|Married    |       Applicant married (Y/N)\n|Dependents |       Number of dependents\n|Education  |       Applicant Education (Graduate/ Under Graduate)\n|Self_Employed|    Self employed (Y/N)\n|ApplicantIncome|\t          Applicant income\n|CoapplicantIncome |\t  Coapplicant income\n|LoanAmount\t|      Loan amount in thousands\n|Loan_Amount_Term |\t  Term of loan in months\n|Credit_History |\t          credit history meets guidelines\n|Property_Area |\t          Urban/ Semi Urban/ Rural\n|Loan_Status |          Loan approved (Y/N)"
    },
    {
      "metadata": {
        "_uuid": "a6b3d1a6d233c5e7b9fcbf657b9abe8ca32b9eee"
      },
      "cell_type": "markdown",
      "source": "# Load libraries"
    },
    {
      "metadata": {
        "trusted": true,
        "_uuid": "d764e60c8a63be258999e69a2ab4155dbaeb4e66"
      },
      "cell_type": "code",
      "source": "# import plotly.plotly as py\nimport plotly.graph_objs as go\nimport cufflinks as cf\nimport pandas as pd # data processing, CSV file I/O\nimport numpy as np # linear algebra, support for large high level mathematical computation\nimport matplotlib as plt # plotting \nimport os # accessing directory structure\n\n# plotly offline, injects plotly source code directly into notebook. Most of the time it is the mode that works on kaggle\nfrom plotly.offline import init_notebook_mode, iplot as py\n\n# matplotlib inline is a magic function that renders the figure in a notebook\n%matplotlib inline ",
      "execution_count": null,
      "outputs": []
    },
    {
      "metadata": {
        "_uuid": "477bb6ba22a38fbd9fed25cebaa9e3b7058a39cf"
      },
      "cell_type": "markdown",
      "source": "# Import dataset"
    },
    {
      "metadata": {
        "trusted": true,
        "_uuid": "dc8b767257ed4d0006e7ff12862e5d6b52bdcb35"
      },
      "cell_type": "code",
      "source": "print(os.listdir('../input'))\ntrain_df = \"../input/train.csv\"\ntest_df = \"../input/test.csv\"\n\ntrain_df = pd.read_csv(train_df)\ntest_df = pd.read_csv(test_df)",
      "execution_count": null,
      "outputs": []
    },
    {
      "metadata": {
        "_uuid": "83990582d4e5aeb881c0b595ecfc1777694ee3dd"
      },
      "cell_type": "markdown",
      "source": "## pandas.DataFrame.info : index dtype, column dtypes, non-null values and memory usage.    "
    },
    {
      "metadata": {
        "trusted": true,
        "_uuid": "319683351bbca5f69cb84c4bd63fd74ab5cd24cd"
      },
      "cell_type": "code",
      "source": "train_df.info()",
      "execution_count": null,
      "outputs": []
    },
    {
      "metadata": {
        "trusted": true,
        "_uuid": "821bb23f7dac36e816747db16ab8f1a846bc21f4"
      },
      "cell_type": "code",
      "source": "test_df.info()",
      "execution_count": null,
      "outputs": []
    },
    {
      "metadata": {
        "_uuid": "6eb0b975583d1c450ea76d13f8bc01212a195f4e"
      },
      "cell_type": "markdown",
      "source": "## pandas.DataFrame.describe : Summary of numeric features"
    },
    {
      "metadata": {
        "trusted": true,
        "_uuid": "4f61c74addfdc357699770aab64db41fc8aa12a3"
      },
      "cell_type": "code",
      "source": "train_df.describe()",
      "execution_count": null,
      "outputs": []
    },
    {
      "metadata": {
        "trusted": true,
        "_uuid": "c55c0f34e945a373860667c31b2c646dadb9f051"
      },
      "cell_type": "code",
      "source": "train_df.head(10)",
      "execution_count": null,
      "outputs": []
    },
    {
      "metadata": {
        "_uuid": "68c74c6192ffeca243e439385adca0e73518ab94"
      },
      "cell_type": "markdown",
      "source": "### Missing data\n-  Loan Amount, NaN values  can be replaced with **Mean** of Loan amount  \n-  Loan amount term, missing values can be replaced with **Mode** of amount term\n-  Only 84% of customers have credit history,  null values can be considered as **0** i.e no credit history "
    },
    {
      "metadata": {
        "trusted": true,
        "_uuid": "c55c0f34e945a373860667c31b2c646dadb9f051"
      },
      "cell_type": "code",
      "source": "train_df.head(10)",
      "execution_count": null,
      "outputs": []
    },
    {
      "metadata": {
        "_uuid": "2e9ebbc0d71183eddf3435843369acd4fe6fc5db"
      },
      "cell_type": "markdown",
      "source": "## Exploratory data analysis\n-  Numeric\n -  Scatter plots\n -  Histograms\n-  Categorical\n -  Bar Chart\n -  Stacked Bar Chart"
    },
    {
      "metadata": {
        "_uuid": "5d48c8ae0c49a8d6b2584caf967624bc6a94385f"
      },
      "cell_type": "markdown",
      "source": "## Plotly & Matplotlib\n-  Iplot means interactive plot. Plotly takes python code and makes great interactive JavaScript plots. They let you have a lot of control over how these plots look and they let you zoom, show info on hover and toggle data."
    },
    {
      "metadata": {
        "trusted": true,
        "_uuid": "e899a845482ea95c964547d2c25b4b5977331d8e"
      },
      "cell_type": "code",
      "source": "genderCount = train_df['Gender'].value_counts()\ngenderCount.dtype",
      "execution_count": null,
      "outputs": []
    },
    {
      "metadata": {
        "trusted": true,
        "_uuid": "0bb6c54a585b2314192e7199a578e9c0ea035c0d"
      },
      "cell_type": "code",
      "source": "init_notebook_mode(connected=True)",
      "execution_count": null,
      "outputs": []
    },
    {
      "metadata": {
        "_uuid": "89c1be0d54d73bd587dc9eaa9d2fdb2cf8994b35"
      },
      "cell_type": "markdown",
      "source": "## Gender Distribution (Categorical)\n### Bar chart - A bar chart is a chart or graph that presents categorical data with rectangular bars with heights or lengths proportional to the values that they represent."
    },
    {
      "metadata": {
        "trusted": true,
        "_uuid": "e899a845482ea95c964547d2c25b4b5977331d8e"
      },
      "cell_type": "code",
      "source": "genderCount = train_df['Gender'].value_counts()\ngenderCount",
      "execution_count": null,
      "outputs": []
    },
    {
      "metadata": {
        "trusted": true,
        "_uuid": "33fad8a933b5e3e038ebd217b5814f4799de6a6b"
      },
      "cell_type": "code",
      "source": "bar_data = [go.Bar(\n            x = ['Male','Female'],\n            y = genderCount.tolist()\n)]\niplot(bar_data, filename='basic-bar')",
      "execution_count": null,
      "outputs": []
    },
    {
      "metadata": {
        "_uuid": "275a744a91c9602c8a87ba134e138952330c800a"
      },
      "cell_type": "markdown",
      "source": "## Applicant Income (Numeric)\n### Histogram - A histogram is an accurate representation of the distribution of numerical data. It is an estimate of the probability distribution of the continuous variable."
    },
    {
      "metadata": {
        "scrolled": true,
        "trusted": false,
        "_uuid": "ac14940eb88d7354043a78d6f5ab122d67506a36"
      },
      "cell_type": "code",
      "source": "",
      "execution_count": null,
      "outputs": []
    },
    {
      "metadata": {
        "_uuid": "8ac6f916b51d37f2eec68c116f48543282ca98d6"
      },
      "cell_type": "markdown",
      "source": "## Applicant Income\n### Box plot / Box Whiskers plot - A box plot is a method for graphically depicting groups of numerical data through their quartiles. It is a standardized way of displaying the distribution of data based on the summary: minimum, first quartile, median, third quartile, and maximum.\n-  Tells about the spread of the data\n-  __[Box plot tutorial](https://www.khanacademy.org/math/statistics-probability/summarizing-quantitative-data/box-whisker-plots/a/box-plot-review)__"
    },
    {
      "metadata": {
        "trusted": false,
        "_uuid": "7fa1f58ff054040216422c9867d662aa89c1ebef"
      },
      "cell_type": "code",
      "source": "",
      "execution_count": null,
      "outputs": []
    },
    {
      "metadata": {
        "_uuid": "fd6abfc3de9021d649200f5cec094e35f80b74bf"
      },
      "cell_type": "markdown",
      "source": "## Relation b/w ApplicantIncome by Education\n### Boxplot (plotly)"
    },
    {
      "metadata": {
        "trusted": false,
        "_uuid": "8e57bd4074a467b2db7f609326fb01e8d09c3b28"
      },
      "cell_type": "code",
      "source": "",
      "execution_count": null,
      "outputs": []
    },
    {
      "metadata": {
        "_uuid": "19f17798bf42ef919e3c2871361f19e75ec2885a"
      },
      "cell_type": "markdown",
      "source": "## Reltaion bw ApplicantIncome by Education\n### Boxplot (Matplotlib)"
    },
    {
      "metadata": {
        "trusted": true,
        "_uuid": "060fe3b5f64c28698747f5eaf0cf43ade295086a"
      },
      "cell_type": "code",
      "source": "train_df.boxplot('ApplicantIncome', py)",
      "execution_count": null,
      "outputs": []
    },
    {
      "metadata": {
        "_uuid": "18360d163e2dc9399f9324ef4b003a2117eafb82"
      },
      "cell_type": "markdown",
      "source": "## LoanAmount \n### Histogram"
    },
    {
      "metadata": {
        "trusted": false,
        "_uuid": "44fecf279d58a1bc003045a4de445f74f3ecb446"
      },
      "cell_type": "code",
      "source": "",
      "execution_count": null,
      "outputs": []
    },
    {
      "metadata": {
        "_uuid": "c4da73db54e60676b41f194e7fe18863ecb8186e"
      },
      "cell_type": "markdown",
      "source": "## LoanAmount \n### BoxPlot "
    },
    {
      "metadata": {
        "trusted": false,
        "_uuid": "2a9f5b8de9a209dc4b49b10ed9ee95cf5eb3a689"
      },
      "cell_type": "code",
      "source": "",
      "execution_count": null,
      "outputs": []
    },
    {
      "metadata": {
        "_uuid": "ab3e052467679e3998a8b087d2416513e7a88bac"
      },
      "cell_type": "markdown",
      "source": "## Frequency & Probabilty of getting loan based on Credit History"
    },
    {
      "metadata": {
        "trusted": false,
        "_uuid": "470fd49c02c8c76c1ee4bee0ecc442fbd92d26a8"
      },
      "cell_type": "code",
      "source": "",
      "execution_count": null,
      "outputs": []
    },
    {
      "metadata": {
        "_uuid": "4cd0ad01e86fcd31359fdc88fafd9590c9b0ee4c"
      },
      "cell_type": "markdown",
      "source": "## Applicants by credit history\n### Bar chart "
    },
    {
      "metadata": {
        "trusted": false,
        "_uuid": "4a414bbbe606d84fb780e76982b35b526a43b334"
      },
      "cell_type": "code",
      "source": "",
      "execution_count": null,
      "outputs": []
    },
    {
      "metadata": {
        "_uuid": "cf068579823a6b3d110c007e626359a2923fc9b3"
      },
      "cell_type": "markdown",
      "source": "## Probability of getting loan by credit history\n### Bar chart"
    },
    {
      "metadata": {
        "trusted": false,
        "_uuid": "ab82562624c07d03c56733280b9770505a32425e"
      },
      "cell_type": "code",
      "source": "",
      "execution_count": null,
      "outputs": []
    },
    {
      "metadata": {
        "_uuid": "a336f0315cae9622a8e03c0c784c66d64f73ea6f"
      },
      "cell_type": "markdown",
      "source": "## Applicant credit history & probability of getting loans\n### Stacked Bar chart "
    },
    {
      "metadata": {
        "trusted": false,
        "_uuid": "1a50a3bca8209912d4a0464216be754dd780d7be"
      },
      "cell_type": "code",
      "source": "",
      "execution_count": null,
      "outputs": []
    },
    {
      "metadata": {
        "_uuid": "cc921f250f69ac68a5ad870fb8fade073094bab1"
      },
      "cell_type": "markdown",
      "source": "## Gender & Credit history (Cross tab)\n### Stacked Bar chart "
    },
    {
      "metadata": {
        "trusted": false,
        "_uuid": "863b9fa635f3aaf8ef8c3e38a38f3f8e7b7a84c7"
      },
      "cell_type": "code",
      "source": "",
      "execution_count": null,
      "outputs": []
    },
    {
      "metadata": {
        "_uuid": "f2ee5d23a08fa2f1524130a7ebdf8253108c5f73"
      },
      "cell_type": "markdown",
      "source": "***"
    },
    {
      "metadata": {
        "_uuid": "cec923aaacc519cf6e382b5b86b57ecaaff97290"
      },
      "cell_type": "markdown",
      "source": "## Data Pre-processing\n-  Missing value treatment"
    },
    {
      "metadata": {
        "_uuid": "b250da27d7840ced343b2734be9e02aa99440a68"
      },
      "cell_type": "markdown",
      "source": "## Loan Amount "
    },
    {
      "metadata": {
        "trusted": true,
        "_uuid": "d29b56cba8b64672c0f7552c33941d368b830cdd"
      },
      "cell_type": "code",
      "source": "train_df['LoanAmount'].fillna(train_df['LoanAmount'].mean(), inplace=True)",
      "execution_count": null,
      "outputs": []
    },
    {
      "metadata": {
        "trusted": true,
        "_uuid": "0c76b6e55d69525b1021a61d74426e0bd4f84954"
      },
      "cell_type": "code",
      "source": "train_df[['LoanAmount']].info()",
      "execution_count": null,
      "outputs": []
    },
    {
      "metadata": {
        "_uuid": "51da95835cdc7b0eeab415f07cd7107ed51cd547"
      },
      "cell_type": "markdown",
      "source": "## Treat extreme values in loan amount\n### Log Transformation\n-  Small values that are close together are spread further out.\n-   Large values that are spread out are brought closer together."
    },
    {
      "metadata": {
        "trusted": false,
        "_uuid": "f147c21a9916bcc9190e503d1f3376e477ee12ba"
      },
      "cell_type": "code",
      "source": "",
      "execution_count": null,
      "outputs": []
    },
    {
      "metadata": {
        "_uuid": "deda6038e019496151fdc0fdd6f317f8aeca061f"
      },
      "cell_type": "markdown",
      "source": "## Self_Employed"
    },
    {
      "metadata": {
        "trusted": false,
        "_uuid": "bef797d87ee95803c3b1b1e3341ab10250f6ad1b"
      },
      "cell_type": "code",
      "source": "",
      "execution_count": null,
      "outputs": []
    },
    {
      "metadata": {
        "_uuid": "2b846f3c1729a0a95efe8a51b0b13348478fb50d"
      },
      "cell_type": "markdown",
      "source": "## LoanAmount_log"
    },
    {
      "metadata": {
        "trusted": false,
        "_uuid": "6a5a43166331749dfa9a9a8242adfb7e3b6ba797"
      },
      "cell_type": "code",
      "source": "",
      "execution_count": null,
      "outputs": []
    },
    {
      "metadata": {
        "_uuid": "823283befdc9d0faa64f927eada6025da04a6418"
      },
      "cell_type": "markdown",
      "source": "## Missing value for Categorical features"
    },
    {
      "metadata": {
        "_uuid": "f038e46c4c15d9119e6f4fa2feab18f057daf4bd"
      },
      "cell_type": "markdown",
      "source": "### GENDER"
    },
    {
      "metadata": {
        "trusted": false,
        "_uuid": "79036c26a484be39c9e3dca14fb49ce2b2ff12c2"
      },
      "cell_type": "code",
      "source": "",
      "execution_count": null,
      "outputs": []
    },
    {
      "metadata": {
        "_uuid": "91a1a153509fc8e3ceeb02e103446137d623dd67"
      },
      "cell_type": "markdown",
      "source": "### Married"
    },
    {
      "metadata": {
        "trusted": false,
        "_uuid": "d19c079b8cdfb1c18edf3afdfff67da89124a06f"
      },
      "cell_type": "code",
      "source": "",
      "execution_count": null,
      "outputs": []
    },
    {
      "metadata": {
        "_uuid": "a0de768316c1a3820b39614c9e98e814f80a9b8e"
      },
      "cell_type": "markdown",
      "source": "## Dependents"
    },
    {
      "metadata": {
        "trusted": false,
        "_uuid": "0da4deec48627e2e2ce4c2075f13909f4599fe6c"
      },
      "cell_type": "code",
      "source": "",
      "execution_count": null,
      "outputs": []
    },
    {
      "metadata": {
        "_uuid": "63a2de1adc6276ebc2a1ac4a6767ec8be05407e8"
      },
      "cell_type": "markdown",
      "source": "## Loan_Amount_Term"
    },
    {
      "metadata": {
        "trusted": false,
        "_uuid": "dce2ea5b1f8eae152fe60ec267d77fcea7088316"
      },
      "cell_type": "code",
      "source": "",
      "execution_count": null,
      "outputs": []
    },
    {
      "metadata": {
        "_uuid": "3c102cd98e02bffd303f6718a6ad2fa54c37b195"
      },
      "cell_type": "markdown",
      "source": "## Credit_History"
    },
    {
      "metadata": {
        "trusted": false,
        "_uuid": "5c0b1995a8f567101fca761366627ad7302ed572"
      },
      "cell_type": "code",
      "source": "",
      "execution_count": null,
      "outputs": []
    },
    {
      "metadata": {
        "_uuid": "427e74933c63c9461827aac504b4a5ca86fc51a2"
      },
      "cell_type": "markdown",
      "source": "## Feature Engineering"
    },
    {
      "metadata": {
        "_uuid": "d72ce9c851ab4f7adf8ee79d4e7997a012dc9994"
      },
      "cell_type": "markdown",
      "source": "### Total Income Feature"
    },
    {
      "metadata": {
        "scrolled": true,
        "trusted": false,
        "_uuid": "9b8defe14ff5094cdfdf4332c43a9b944923eec6"
      },
      "cell_type": "code",
      "source": "",
      "execution_count": null,
      "outputs": []
    },
    {
      "metadata": {
        "trusted": false,
        "_uuid": "d587d9b4b4b184ab64f21224b007798f632d947b"
      },
      "cell_type": "code",
      "source": "",
      "execution_count": null,
      "outputs": []
    },
    {
      "metadata": {
        "_uuid": "c86d742dea91c4925d9058c96a4ee77d49ef1bc5"
      },
      "cell_type": "markdown",
      "source": "## Model Building\n### Label Encoding the categorical features"
    },
    {
      "metadata": {
        "trusted": false,
        "_uuid": "a5b9313e0e1de76894fb9b79188e62d171588237"
      },
      "cell_type": "code",
      "source": "",
      "execution_count": null,
      "outputs": []
    },
    {
      "metadata": {
        "_uuid": "79836f6d55d7d87a3fb974dc74d63b7e010bfac4"
      },
      "cell_type": "markdown",
      "source": "### Check the data types"
    },
    {
      "metadata": {
        "trusted": false,
        "_uuid": "b1078b9b5b9b3791afb5cd9df6f7dace5950134c"
      },
      "cell_type": "code",
      "source": "",
      "execution_count": null,
      "outputs": []
    },
    {
      "metadata": {
        "_uuid": "4290a55643dc8f539152a7dbb345b1c585c5424a"
      },
      "cell_type": "markdown",
      "source": "## Classification\n-  Fit the model\n-  Predict using the model\n-  Score the model\n-  Cross-validation"
    },
    {
      "metadata": {
        "trusted": false,
        "_uuid": "db2c3a1265408f3367fb88cb00e92175a7843d3f"
      },
      "cell_type": "code",
      "source": "",
      "execution_count": null,
      "outputs": []
    },
    {
      "metadata": {
        "_uuid": "ee3323ccb2dc58bd6fba0b6d12081139442a9dec"
      },
      "cell_type": "markdown",
      "source": "## LOGISTIC REGRESSION"
    },
    {
      "metadata": {
        "_uuid": "dfa2f503079f46bd00d19ac987f2c5bbe0d09db3"
      },
      "cell_type": "markdown",
      "source": "<br>__[LOGISTIC REGRESSION TUTORIAL](https://www.youtube.com/watch?v=H6ii7NFdDeg)__ \n<br>\n<br>"
    },
    {
      "metadata": {
        "_uuid": "1356f18d8e3acf6220b599e6f476618a554b9aea"
      },
      "cell_type": "markdown",
      "source": "## Logistic Regression Decision Boundary"
    },
    {
      "metadata": {
        "_uuid": "edd308cca025033436777a2e49ac9a2e168b0cb4"
      },
      "cell_type": "markdown",
      "source": "![LR_Decision_Boundary](./imgs/lr_1.png \"LR_Decision_Boundary\")"
    },
    {
      "metadata": {
        "trusted": false,
        "_uuid": "e9fe371c0ba8226e360cab41da0fa1153c788775"
      },
      "cell_type": "code",
      "source": "",
      "execution_count": null,
      "outputs": []
    },
    {
      "metadata": {
        "trusted": false,
        "_uuid": "fd257a1375616284e751864ea09869abef54125f"
      },
      "cell_type": "code",
      "source": "",
      "execution_count": null,
      "outputs": []
    },
    {
      "metadata": {
        "_uuid": "78c9ac31be075bbec2d408523d166736bd4b39f3"
      },
      "cell_type": "markdown",
      "source": "## DECISION TREES"
    },
    {
      "metadata": {
        "_uuid": "3296608860a24d73c0c57ad9a16def3981999692"
      },
      "cell_type": "markdown",
      "source": "![DT https://www.crondose.com/2016/07/easy-way-understand-decision-trees/](./imgs/dt_2.png \"DT\")"
    },
    {
      "metadata": {
        "_uuid": "08cff5640ec76121909a6d4c5617008f0304cd39"
      },
      "cell_type": "markdown",
      "source": "## Decision Tree Decision Boundary"
    },
    {
      "metadata": {
        "_uuid": "ccf10c5c36796228dba30e7c0bd7cb15ea642517"
      },
      "cell_type": "markdown",
      "source": "![DT_Decision_Boundary](./imgs/dt_1.png \"DT_Decision_Boundary\")"
    },
    {
      "metadata": {
        "trusted": false,
        "_uuid": "d8f270e122917ac7acda8e240961063037687635"
      },
      "cell_type": "code",
      "source": "",
      "execution_count": null,
      "outputs": []
    },
    {
      "metadata": {
        "trusted": false,
        "_uuid": "e4a29773687f4300be3d244dd31fc6f86ce27503"
      },
      "cell_type": "code",
      "source": "",
      "execution_count": null,
      "outputs": []
    },
    {
      "metadata": {
        "_uuid": "c5384aefc96f9e681a499887991e7bc1193968b0"
      },
      "cell_type": "markdown",
      "source": "## RANDOM FOREST : Bootstrap aggregation/Bagging\n-  Combining N weak learners on M samples"
    },
    {
      "metadata": {
        "_uuid": "6c3f4ca4d8b2adf8e475936d0ecb06dfba3600cb"
      },
      "cell_type": "markdown",
      "source": "![Random Forest](./imgs/rf_2.png \"Random Forest\")"
    },
    {
      "metadata": {
        "_uuid": "522b3d071977bafe4cc7f8f65bb7521dc637b669"
      },
      "cell_type": "markdown",
      "source": "## Why do we need weak learners?"
    },
    {
      "metadata": {
        "_uuid": "2f3e17185216a9a2c815fdab561e5b49f32fc028"
      },
      "cell_type": "markdown",
      "source": "<br>__[RANDOM FOREST TUTORIAL](https://www.youtube.com/watch?v=QHOazyP-YlM)__\n<br>\n<br>"
    },
    {
      "metadata": {
        "_uuid": "b5f778cccacadd313c3e03e80c34bea9ca4894f7"
      },
      "cell_type": "markdown",
      "source": "## Random Forest Decision Boundary"
    },
    {
      "metadata": {
        "_uuid": "aafff887f41cc651fba57dbab573ef04cc863cbc"
      },
      "cell_type": "markdown",
      "source": "![RF_Decision_Boundary](./imgs/rf_1.png \"RF_Decision_Boundary\")"
    },
    {
      "metadata": {
        "trusted": false,
        "_uuid": "8a45e92465d7b6b263173887fb988f02a7b3be06"
      },
      "cell_type": "code",
      "source": "",
      "execution_count": null,
      "outputs": []
    },
    {
      "metadata": {
        "trusted": false,
        "_uuid": "8c74087acec21c0794f12038112933a1e50d695f"
      },
      "cell_type": "code",
      "source": "",
      "execution_count": null,
      "outputs": []
    },
    {
      "metadata": {
        "_uuid": "255461033e5d9f09267ec8d6fbdd1185fc661901"
      },
      "cell_type": "markdown",
      "source": "## Random Forest Model Parameters"
    },
    {
      "metadata": {
        "trusted": false,
        "_uuid": "deb889089b7343ea3a931f3e3ff1e3918ee7eadb"
      },
      "cell_type": "code",
      "source": "",
      "execution_count": null,
      "outputs": []
    },
    {
      "metadata": {
        "_uuid": "6f57a6ac041960836adb72016816ba9e53e4eef8"
      },
      "cell_type": "markdown",
      "source": "## Hyper-parameter Optimization\n### Parameters that are external to model and cannot be estimated from the data\n-  Grid Search\n-  Random Search"
    },
    {
      "metadata": {
        "_uuid": "0af3be9a0ae500cf61a8ddac129c886c0fa44a90"
      },
      "cell_type": "markdown",
      "source": "## Logistic Regression\n### Parameters\n-  Coefficients\n\n### Hyper-parameters \n-  Regularization penalty - ['l1', 'l2']\n-  Inverse of regularization - C. By using bigger C values, the model can increase it's complexity and adjust better to the data."
    },
    {
      "metadata": {
        "_uuid": "5f63ebdedc6a318de65886e41907a5655fdb8b3d"
      },
      "cell_type": "markdown",
      "source": "## Random Forest\n### Hyper-parameters\n-  n_estimators : number of trees in the foreset\n-  min_samples_split : min number of data points placed in a node before the node is split\n-  max_depth : max number of levels in each decision tree\n-  max_features : max number of features considered for splitting a node\n-  min_samples_leaf : min number of data points allowed in a leaf node\n-  bootstrap : method for sampling data points (with or without replacement\n-  criterion : splitting criteria"
    },
    {
      "metadata": {
        "_uuid": "650dc379ce16664e2094ee15f4c290cdd33a51bb"
      },
      "cell_type": "markdown",
      "source": "<br>__[HYPERPARAMETER OPTIMIZATION TUTORIAL](https://www.youtube.com/watch?v=ttE0F7fghfk)__\n<br>\n<br>"
    },
    {
      "metadata": {
        "_uuid": "84e5c67f911aad394e5f92aa88fd5c966159c54c"
      },
      "cell_type": "markdown",
      "source": "## Tuning Random Forest"
    },
    {
      "metadata": {
        "trusted": false,
        "_uuid": "70912aae80d67fda743aff51fd48c504ecf581d7"
      },
      "cell_type": "code",
      "source": "",
      "execution_count": null,
      "outputs": []
    },
    {
      "metadata": {
        "trusted": false,
        "_uuid": "6ef5f43c6e465ee351fb3ff97a94ba87be342b43"
      },
      "cell_type": "code",
      "source": "",
      "execution_count": null,
      "outputs": []
    },
    {
      "metadata": {
        "_uuid": "58917bdb777602c858fe7d36de08a4b56403b0b5"
      },
      "cell_type": "markdown",
      "source": "# WHAT TO DO NEXT"
    },
    {
      "metadata": {
        "_uuid": "0a8319e57d26bcaa8f8bfda97511154310d0dabb"
      },
      "cell_type": "markdown",
      "source": "-  Determine the creditworthiness, particularly for those without credit histories\n"
    },
    {
      "metadata": {
        "trusted": false,
        "_uuid": "92a3a15a6d2c029cea3bf607cb2cdf0d29d91e9e"
      },
      "cell_type": "code",
      "source": "",
      "execution_count": null,
      "outputs": []
    },
    {
      "metadata": {
        "trusted": false,
        "_uuid": "6cc7b390ea91e9d983c5641c9ba6ff6a115446f1"
      },
      "cell_type": "code",
      "source": "",
      "execution_count": null,
      "outputs": []
    }
  ],
  "metadata": {
    "kernelspec": {
      "display_name": "Python 3",
      "language": "python",
      "name": "python3"
    },
    "language_info": {
      "name": "python",
      "version": "3.6.6",
      "mimetype": "text/x-python",
      "codemirror_mode": {
        "name": "ipython",
        "version": 3
      },
      "pygments_lexer": "ipython3",
      "nbconvert_exporter": "python",
      "file_extension": ".py"
    }
  },
  "nbformat": 4,
  "nbformat_minor": 1
}