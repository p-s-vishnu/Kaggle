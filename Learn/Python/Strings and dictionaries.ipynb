{
  "cells": [
    {
      "metadata": {
        "_uuid": "4666ccb7ea75f54053f69d74cbd6f5e3bc2685dd"
      },
      "cell_type": "markdown",
      "source": "These exercises accompany the tutorial on [strings and dictionaries](https://www.kaggle.com/colinmorris/strings-and-dictionaries).\n\nRun the setup code below before working on the questions (and run it again if you leave this notebook and come back later)."
    },
    {
      "metadata": {
        "_uuid": "3e38602e0e263a4fb49e9f8f73ec09a19d3a72b4",
        "trusted": true
      },
      "cell_type": "code",
      "source": "# SETUP. You don't need to worry for now about what this code does or how it works. If you're ever curious about the \n# code behind these exercises, it's available under an open source license here: https://github.com/Kaggle/learntools/\nfrom learntools.core import binder; binder.bind(globals())\nfrom learntools.python.ex6 import *\nprint('Setup complete.')",
      "execution_count": null,
      "outputs": []
    },
    {
      "metadata": {
        "_uuid": "7bac70884b572ed55f0bc376e1626921ab6d7781"
      },
      "cell_type": "markdown",
      "source": "# Exercises"
    },
    {
      "metadata": {
        "_uuid": "c0e5287fa5b7aa00ba64c91227983a96e8e19073"
      },
      "cell_type": "markdown",
      "source": "## 0. \n\nLet's start with a string lightning round to warm up. What are the lengths of the strings below?\n\nFor each of the five strings below, predict what `len()` would return when passed that string. Use the variable `length` to record your answer, then run the cell to check whether you were right."
    },
    {
      "metadata": {
        "_uuid": "912eca65ced6ebf9cf20d2d99c154748ade8313d",
        "trusted": true
      },
      "cell_type": "code",
      "source": "a = \"\"\nlength = 0\nq0.a.check()",
      "execution_count": null,
      "outputs": []
    },
    {
      "metadata": {
        "_uuid": "b3cfa5478063dd7302b2b71aadf1999c9886f027",
        "trusted": true
      },
      "cell_type": "code",
      "source": "b = \"it's ok\"\nlength = 7\nq0.b.check()",
      "execution_count": null,
      "outputs": []
    },
    {
      "metadata": {
        "_uuid": "268fb5693e687717298ec844af920dbff33305c3",
        "trusted": true
      },
      "cell_type": "code",
      "source": "c = 'it\\'s ok'\nlength = 7\nq0.c.check()",
      "execution_count": null,
      "outputs": []
    },
    {
      "metadata": {
        "_uuid": "ceaece3cf39d96e6f7d97cf60a47009ea6003774",
        "trusted": true
      },
      "cell_type": "code",
      "source": "d = \"\"\"hey\"\"\"\nlength = 3\nq0.d.check()",
      "execution_count": null,
      "outputs": []
    },
    {
      "metadata": {
        "_uuid": "650f801821b4971666b646082b892bc10d5475bf",
        "trusted": true
      },
      "cell_type": "code",
      "source": "e = '\\n'\nlength = 1\nq0.e.check()",
      "execution_count": null,
      "outputs": []
    },
    {
      "metadata": {
        "_uuid": "6e04c2f4cf59a89d02ebeef9c19c8399b66078af"
      },
      "cell_type": "markdown",
      "source": "## 1.\n\nThere is a saying that \"Data scientists spend 80% of their time cleaning data, and 20% of their time complaining about cleaning data.\" Let's see if you can write a function to help clean US zip code data. Given a string, it should return whether or not that string represents a valid zip code. For our purposes, a valid zip code is any string consisting of exactly 5 digits.\n\nHINT: `str` has a method that will be useful here. Use `help(str)` to review a list of string methods."
    },
    {
      "metadata": {
        "trusted": true,
        "_uuid": "34087c0254c7169a896eeb29bbf4238ebc232834"
      },
      "cell_type": "code",
      "source": "help(str)",
      "execution_count": null,
      "outputs": []
    },
    {
      "metadata": {
        "_uuid": "715d9e16086ab99f8fa195152097ded7c3eda5dc",
        "trusted": true
      },
      "cell_type": "code",
      "source": "def is_valid_zip(zip_code):\n    \"\"\"Returns whether the input string is a valid (5 digit) zip code\n    \"\"\"\n    return zip_code.isdigit() and len(zip_code) == 5\n\nq1.check()",
      "execution_count": null,
      "outputs": []
    },
    {
      "metadata": {
        "_uuid": "2525db9d4caa2b31061bf7d3989c75dbed91a34a",
        "trusted": true
      },
      "cell_type": "code",
      "source": "#q1.hint()\n#q1.solution()",
      "execution_count": null,
      "outputs": []
    },
    {
      "metadata": {
        "_uuid": "7c1080bd1155bada28dd0256858e1f8cc79cd8b4"
      },
      "cell_type": "markdown",
      "source": "## 2.\n\nA researcher has gathered thousands of news articles. But she wants to focus her attention on articles including a specific word. Complete the function below to help her filter her list of articles.\n\nYour function should meet the following criteria\n\n- Do not include documents where the keyword string shows up only as a part of a larger word. For example, if she were looking for the keyword “closed”, you would not include the string “enclosed.” \n- She does not want you to distinguish upper case from lower case letters. So the phrase “Closed the case.” would be included when the keyword is “closed”\n- Do not let periods or commas affect what is matched. “It is closed.” would be included when the keyword is “closed”. But you can assume there are no other types of punctuation."
    },
    {
      "metadata": {
        "trusted": true,
        "_uuid": "e06f5c6b4794f75eef45fb12661c53241683f3f9"
      },
      "cell_type": "code",
      "source": "help(str)",
      "execution_count": null,
      "outputs": []
    },
    {
      "metadata": {
        "_uuid": "b6088397c98b14740d6f487bc91e749d5b2188d0",
        "trusted": true
      },
      "cell_type": "code",
      "source": "def word_search(doc_list, keyword):\n    \"\"\"\n    Takes a list of documents (each document is a string) and a keyword. \n    Returns list of the index values into the original list for all documents \n    containing the keyword.\n\n    Example:\n    doc_list = [\"The Learn Python Challenge Casino.\", \"They bought a car\", \"Casinoville\"]\n    >>> word_search(doc_list, 'casino')\n    >>> [0]\n    \"\"\"\n    index_list = []\n    for i, line in enumerate(doc_list) :\n        words = line.split()\n        tokens = [word.strip(',.').lower() for word in words]\n        if  keyword in tokens:\n            index_list.append(i)\n    return index_list    \n\n\nq2.check()",
      "execution_count": null,
      "outputs": []
    },
    {
      "metadata": {
        "_uuid": "ddcaec9dd6228975ba81d600705394d877e3b1c6",
        "trusted": true
      },
      "cell_type": "code",
      "source": "#q2.hint()\n#q2.solution()",
      "execution_count": null,
      "outputs": []
    },
    {
      "metadata": {
        "_uuid": "722d067aac59e09d492a964b6fdb731155056405"
      },
      "cell_type": "markdown",
      "source": "## 3.\n\nNow the researcher wants to supply multiple keywords to search for. Complete the function below to help her.\n\n(You're encouraged to use the `word_search` function you just wrote when implementing this function. Reusing code in this way makes your programs more robust and readable - and it saves typing!)"
    },
    {
      "metadata": {
        "_uuid": "13fdebc08aabe3863832785a3355e5ad503ab407",
        "trusted": true
      },
      "cell_type": "code",
      "source": "def multi_word_search(doc_list, keywords):\n    \"\"\"\n    Takes list of documents (each document is a string) and a list of keywords.  \n    Returns a dictionary where each key is a keyword, and the value is a list of indices\n    (from doc_list) of the documents containing that keyword\n\n    >>> doc_list = [\"The Learn Python Challenge Casino.\", \"They bought a car and a casino\", \"Casinoville\"]\n    >>> keywords = ['casino', 'they']\n    >>> multi_word_search(doc_list, keywords)\n    {'casino': [0, 1], 'they': [1]}\n    \"\"\"\n    dict = {}\n    for keyword in keywords:\n        dict[keyword] = word_search(doc_list, keyword)\n    \n    return dict\n# Alternate approach\n#     return {keyword : word_search(doc_list, keyword) for keyword in keywords}\n\nq3.check()",
      "execution_count": null,
      "outputs": []
    },
    {
      "metadata": {
        "collapsed": true,
        "_uuid": "7a845ac35fe97cfcbf126bd659bc59811ef5b179",
        "trusted": false
      },
      "cell_type": "code",
      "source": "#q3.solution()",
      "execution_count": null,
      "outputs": []
    },
    {
      "metadata": {
        "_uuid": "fd4c290cded5a7a2fe137978096213efaa871c85"
      },
      "cell_type": "markdown",
      "source": "## 4. <span title=\"Spicy\" style=\"color: coral\">🌶️🌶️</span>\n\nDiamonds are beautiful, but they are just so expensive. Write a python program to create counterfeit ASCII diamonds such as the following:\n```\n    /\\\n   //\\\\\n  ///\\\\\\\n ////\\\\\\\\\n/////\\\\\\\\\\\n\\\\\\\\\\/////\n \\\\\\\\////\n  \\\\\\///\n   \\\\//\n    \\/\n```\n\nYour function should allow the caller to choose the size of the diamond (in terms of number of lines). The above diamond has a height of 10. Here's a 4-line diamond:\n\n```\n /\\ \n//\\\\\n\\\\//\n \\/ \n```\n\n(You can assume your function will only be called with even numbers)"
    },
    {
      "metadata": {
        "trusted": true,
        "_uuid": "9a2434088323c53b650ff77419fc707f96681693"
      },
      "cell_type": "code",
      "source": "[i for i in range(1,5)]\n#help(list)",
      "execution_count": 83,
      "outputs": [
        {
          "output_type": "execute_result",
          "execution_count": 83,
          "data": {
            "text/plain": "[1, 2, 3, 4]"
          },
          "metadata": {}
        }
      ]
    },
    {
      "metadata": {
        "_uuid": "afde47c8e50df65e6bfe70cb9f1d7379df9d94a7",
        "trusted": true
      },
      "cell_type": "code",
      "source": "def diamond(height):\n    \"\"\"Return a string resembling a diamond of specified height (measured in lines).\n    height must be an even integer.\n    \"\"\"\n    mid_n = int(height/2) \n    s_list = ['{}{}{}'.format(' ' * (mid_n - i),'/' * i,'\\\\' *  i) for i in range(1, mid_n + 1) ]\n    s_list.extend( ['{}{}{}'.format(' ' * i,'\\\\' * (mid_n - i),'/' *  (mid_n - i)) for i in range(0, mid_n) ])\n    return '\\n'.join(s_list)\n\n# print(diamond(10))\nq4.check()",
      "execution_count": 86,
      "outputs": [
        {
          "output_type": "display_data",
          "data": {
            "text/plain": "<IPython.core.display.Javascript object>",
            "application/javascript": "parent.postMessage({\"jupyterEvent\": \"custom.exercise_interaction\", \"data\": {\"outcomeType\": 1, \"valueTowardsCompletion\": 0.02702702702702703, \"interactionType\": 1, \"learnTutorialId\": 112, \"questionId\": \"4_DiamondArt\", \"learnToolsVersion\": \"0.2.2\", \"failureMessage\": \"\", \"exceptionClass\": \"\", \"trace\": \"\"}}, \"*\")"
          },
          "metadata": {}
        },
        {
          "output_type": "display_data",
          "data": {
            "text/plain": "Correct",
            "text/markdown": "<span style=\"color:#33cc33\">Correct</span>"
          },
          "metadata": {}
        }
      ]
    },
    {
      "metadata": {
        "_uuid": "fa92723659348459b7a46cf8a6c948ec16276d94"
      },
      "cell_type": "markdown",
      "source": "We've provided an example height-4 diamond below as a Python string. It may help to inspect it in the console."
    },
    {
      "metadata": {
        "_uuid": "680c6c9016a8f5fb4e23cbc1182b2165763ff33a",
        "trusted": true
      },
      "cell_type": "code",
      "source": "d4 = \n\"\"\" /\\\\ \n//\\\\\\\\\n\\\\\\\\//\n \\\\/ \"\"\"\nprint(d4)",
      "execution_count": null,
      "outputs": []
    },
    {
      "metadata": {
        "_uuid": "0dc9934a441145f2a72a582a4515ba72b79a9767",
        "trusted": true
      },
      "cell_type": "code",
      "source": "q4.hint()\nq4.solution()",
      "execution_count": 49,
      "outputs": [
        {
          "output_type": "display_data",
          "data": {
            "text/plain": "<IPython.core.display.Javascript object>",
            "application/javascript": "parent.postMessage({\"jupyterEvent\": \"custom.exercise_interaction\", \"data\": {\"interactionType\": 2, \"learnTutorialId\": 112, \"questionId\": \"4_DiamondArt\", \"learnToolsVersion\": \"0.2.2\", \"valueTowardsCompletion\": 0.0, \"failureMessage\": \"\", \"exceptionClass\": \"\", \"trace\": \"\", \"outcomeType\": 4}}, \"*\")"
          },
          "metadata": {}
        },
        {
          "output_type": "display_data",
          "data": {
            "text/plain": "Hint: `str` has a few methods that help with the problem of padding a string to a certain size: two that might help here are `str.rjust()` or `str.center()`",
            "text/markdown": "<span style=\"color:#3366cc\">Hint:</span> `str` has a few methods that help with the problem of padding a string to a certain size: two that might help here are `str.rjust()` or `str.center()`"
          },
          "metadata": {}
        },
        {
          "output_type": "display_data",
          "data": {
            "text/plain": "<IPython.core.display.Javascript object>",
            "application/javascript": "parent.postMessage({\"jupyterEvent\": \"custom.exercise_interaction\", \"data\": {\"interactionType\": 3, \"learnTutorialId\": 112, \"questionId\": \"4_DiamondArt\", \"learnToolsVersion\": \"0.2.2\", \"valueTowardsCompletion\": 0.0, \"failureMessage\": \"\", \"exceptionClass\": \"\", \"trace\": \"\", \"outcomeType\": 4}}, \"*\")"
          },
          "metadata": {}
        },
        {
          "output_type": "display_data",
          "data": {
            "text/plain": "Solution: \n```python\ndef diamond(height):\n    s = ''\n    # The characters currently being used to build the left and right half of \n    # the diamond, respectively. (We need to escape the backslash with another\n    # backslash so Python knows we mean a literal \"\\\" character.)\n    l, r = '/', '\\\\'\n    # The \"radius\" of the diamond (used in lots of calculations)\n    rad = height // 2\n    for row in range(height):\n        # The first time we pass the halfway mark, swap the left and right characters\n        if row == rad:\n            l, r = r, l\n        if row < rad:\n            # For the first row, use one left character and one right. For\n            # the second row, use two of each, and so on...\n            nchars = row+1\n        else:\n            # Until we go past the midpoint. Then we start counting back down to 1.\n            nchars = height - row\n        left = (l * nchars).rjust(rad)\n        right = (r * nchars).ljust(rad)\n        s += left + right + '\\n'\n    # Trim the last newline - we want every line to end with a newline character\n    # *except* the last\n    return s[:-1]\n```",
            "text/markdown": "<span style=\"color:#33cc99\">Solution:</span> \n```python\ndef diamond(height):\n    s = ''\n    # The characters currently being used to build the left and right half of \n    # the diamond, respectively. (We need to escape the backslash with another\n    # backslash so Python knows we mean a literal \"\\\" character.)\n    l, r = '/', '\\\\'\n    # The \"radius\" of the diamond (used in lots of calculations)\n    rad = height // 2\n    for row in range(height):\n        # The first time we pass the halfway mark, swap the left and right characters\n        if row == rad:\n            l, r = r, l\n        if row < rad:\n            # For the first row, use one left character and one right. For\n            # the second row, use two of each, and so on...\n            nchars = row+1\n        else:\n            # Until we go past the midpoint. Then we start counting back down to 1.\n            nchars = height - row\n        left = (l * nchars).rjust(rad)\n        right = (r * nchars).ljust(rad)\n        s += left + right + '\\n'\n    # Trim the last newline - we want every line to end with a newline character\n    # *except* the last\n    return s[:-1]\n```"
          },
          "metadata": {}
        }
      ]
    },
    {
      "metadata": {
        "_uuid": "fd7cacb6994e07af2c05827286f796f0b8f83502"
      },
      "cell_type": "markdown",
      "source": "## 5. <span title=\"Spicy\" style=\"color: coral\">🌶️🌶️</span>\n\nDice may not have any memory, but apparently the roulette wheel at the Learn Challenge Casino does. You’ve received a tip-off that the wheel has some exploitable bias where the probability of landing on a given number changes depending on the number previously landed on. Analyze a list containing a history of roulette spins. \n\nReturn a dictionary where the keys are numbers on the roulette wheel, and the values are dictionaries mapping numbers on the wheel to probabilities, such that `d[n1][n2]` is an estimate of the probability that the next spin will land on n2, given that the previous spin landed on n1."
    },
    {
      "metadata": {
        "trusted": true,
        "_uuid": "ffaa6a54ab7424e2cfaedc3a159b67fb0fab6e3c"
      },
      "cell_type": "code",
      "source": "help(list)",
      "execution_count": 89,
      "outputs": [
        {
          "output_type": "stream",
          "text": "Help on class list in module builtins:\n\nclass list(object)\n |  list() -> new empty list\n |  list(iterable) -> new list initialized from iterable's items\n |  \n |  Methods defined here:\n |  \n |  __add__(self, value, /)\n |      Return self+value.\n |  \n |  __contains__(self, key, /)\n |      Return key in self.\n |  \n |  __delitem__(self, key, /)\n |      Delete self[key].\n |  \n |  __eq__(self, value, /)\n |      Return self==value.\n |  \n |  __ge__(self, value, /)\n |      Return self>=value.\n |  \n |  __getattribute__(self, name, /)\n |      Return getattr(self, name).\n |  \n |  __getitem__(...)\n |      x.__getitem__(y) <==> x[y]\n |  \n |  __gt__(self, value, /)\n |      Return self>value.\n |  \n |  __iadd__(self, value, /)\n |      Implement self+=value.\n |  \n |  __imul__(self, value, /)\n |      Implement self*=value.\n |  \n |  __init__(self, /, *args, **kwargs)\n |      Initialize self.  See help(type(self)) for accurate signature.\n |  \n |  __iter__(self, /)\n |      Implement iter(self).\n |  \n |  __le__(self, value, /)\n |      Return self<=value.\n |  \n |  __len__(self, /)\n |      Return len(self).\n |  \n |  __lt__(self, value, /)\n |      Return self<value.\n |  \n |  __mul__(self, value, /)\n |      Return self*value.\n |  \n |  __ne__(self, value, /)\n |      Return self!=value.\n |  \n |  __new__(*args, **kwargs) from builtins.type\n |      Create and return a new object.  See help(type) for accurate signature.\n |  \n |  __repr__(self, /)\n |      Return repr(self).\n |  \n |  __reversed__(...)\n |      L.__reversed__() -- return a reverse iterator over the list\n |  \n |  __rmul__(self, value, /)\n |      Return value*self.\n |  \n |  __setitem__(self, key, value, /)\n |      Set self[key] to value.\n |  \n |  __sizeof__(...)\n |      L.__sizeof__() -- size of L in memory, in bytes\n |  \n |  append(...)\n |      L.append(object) -> None -- append object to end\n |  \n |  clear(...)\n |      L.clear() -> None -- remove all items from L\n |  \n |  copy(...)\n |      L.copy() -> list -- a shallow copy of L\n |  \n |  count(...)\n |      L.count(value) -> integer -- return number of occurrences of value\n |  \n |  extend(...)\n |      L.extend(iterable) -> None -- extend list by appending elements from the iterable\n |  \n |  index(...)\n |      L.index(value, [start, [stop]]) -> integer -- return first index of value.\n |      Raises ValueError if the value is not present.\n |  \n |  insert(...)\n |      L.insert(index, object) -- insert object before index\n |  \n |  pop(...)\n |      L.pop([index]) -> item -- remove and return item at index (default last).\n |      Raises IndexError if list is empty or index is out of range.\n |  \n |  remove(...)\n |      L.remove(value) -> None -- remove first occurrence of value.\n |      Raises ValueError if the value is not present.\n |  \n |  reverse(...)\n |      L.reverse() -- reverse *IN PLACE*\n |  \n |  sort(...)\n |      L.sort(key=None, reverse=False) -> None -- stable sort *IN PLACE*\n |  \n |  ----------------------------------------------------------------------\n |  Data and other attributes defined here:\n |  \n |  __hash__ = None\n\n",
          "name": "stdout"
        }
      ]
    },
    {
      "metadata": {
        "_uuid": "125770af0fda35495d2b796cd4c2da45f54751c3",
        "trusted": true
      },
      "cell_type": "code",
      "source": "def unique(list_obj):\n    unique_list = []\n    for obj in list_obj:\n        if obj not in unique_list:\n            unique_list.append(obj)\n    return unique_list\n\ndef dict_probability(parent_key, log):\n    next_num =  [ log[i + 1] for i, n in enumerate(log) if n == parent_key and i + 1 < len(log) ]\n    dict_counter = { num : next_num.count(num)/ len(next_num) for num in next_num }\n    return dict_counter\n    \ndef conditional_roulette_probs(history):\n    \"\"\"\n\n    Example: \n    conditional_roulette_probs([1, 3, 1, 5, 1])\n    > {1: {3: 0.5, 5: 0.5}, \n       3: {1: 1.0},\n       5: {1: 1.0}\n      }\n    \"\"\"\n    return {item : dict_probability(item, history) for item in unique(history) }\n\n# conditional_roulette_probs([1, 3, 1, 5, 1])\nq5.check()",
      "execution_count": 92,
      "outputs": [
        {
          "output_type": "display_data",
          "data": {
            "text/plain": "<IPython.core.display.Javascript object>",
            "application/javascript": "parent.postMessage({\"jupyterEvent\": \"custom.exercise_interaction\", \"data\": {\"outcomeType\": 1, \"valueTowardsCompletion\": 0.02702702702702703, \"interactionType\": 1, \"learnTutorialId\": 112, \"questionId\": \"5_RouletteAnalyzer\", \"learnToolsVersion\": \"0.2.2\", \"failureMessage\": \"\", \"exceptionClass\": \"\", \"trace\": \"\"}}, \"*\")"
          },
          "metadata": {}
        },
        {
          "output_type": "display_data",
          "data": {
            "text/plain": "Correct",
            "text/markdown": "<span style=\"color:#33cc33\">Correct</span>"
          },
          "metadata": {}
        }
      ]
    },
    {
      "metadata": {
        "_uuid": "b44c608b42e45ac04e466f4797c5e9c71adcaf30",
        "trusted": true
      },
      "cell_type": "code",
      "source": "q5.solution()",
      "execution_count": 90,
      "outputs": [
        {
          "output_type": "display_data",
          "data": {
            "text/plain": "<IPython.core.display.Javascript object>",
            "application/javascript": "parent.postMessage({\"jupyterEvent\": \"custom.exercise_interaction\", \"data\": {\"interactionType\": 3, \"learnTutorialId\": 112, \"questionId\": \"5_RouletteAnalyzer\", \"learnToolsVersion\": \"0.2.2\", \"valueTowardsCompletion\": 0.0, \"failureMessage\": \"\", \"exceptionClass\": \"\", \"trace\": \"\", \"outcomeType\": 4}}, \"*\")"
          },
          "metadata": {}
        },
        {
          "output_type": "display_data",
          "data": {
            "text/plain": "Solution: \n```python\ndef conditional_roulette_probs(history):\n    # dict where keys are numbers and values are dicts\n    # counts[a][b] is the number of times we've spun the number b immediately after spinning a\n    counts = {}\n    # Iterate over the indices of history *except* the first (index 0). (In the loop, We'll \n    # be looking at each index alongside its previous index. But there's no previous index for i=0)\n    for i in range(1, len(history)):\n        # The numbers for the ith spin and the spin before it\n        roll, prev = history[i], history[i-1]\n        # If we haven't seen prev before, we need to add it to counts. (Otherwise counts[prev] will give a KeyError)\n        if prev not in counts:\n            counts[prev] = {}\n        # Similar to above - add key to the inner dict if not present\n        if roll not in counts[prev]:\n            counts[prev][roll] = 0\n        counts[prev][roll] += 1\n\n    # We have the counts, but still need to turn them into probabilities\n    probs = {}\n    # dict.items() gives us a dictionary's (key, value) pairs as a sequence of tuples.\n    for prev, nexts in counts.items():\n        # The total number of spins that landed on prev (not counting the very last spin)\n        total = sum(nexts.values())\n        # Take the nects dictionary and normalize it so that its values sum to 1 (and represent probabilities)\n        sub_probs = {next_spin: next_count/total\n                for next_spin, next_count in nexts.items()}\n        probs[prev] = sub_probs\n    return probs\n\n```",
            "text/markdown": "<span style=\"color:#33cc99\">Solution:</span> \n```python\ndef conditional_roulette_probs(history):\n    # dict where keys are numbers and values are dicts\n    # counts[a][b] is the number of times we've spun the number b immediately after spinning a\n    counts = {}\n    # Iterate over the indices of history *except* the first (index 0). (In the loop, We'll \n    # be looking at each index alongside its previous index. But there's no previous index for i=0)\n    for i in range(1, len(history)):\n        # The numbers for the ith spin and the spin before it\n        roll, prev = history[i], history[i-1]\n        # If we haven't seen prev before, we need to add it to counts. (Otherwise counts[prev] will give a KeyError)\n        if prev not in counts:\n            counts[prev] = {}\n        # Similar to above - add key to the inner dict if not present\n        if roll not in counts[prev]:\n            counts[prev][roll] = 0\n        counts[prev][roll] += 1\n\n    # We have the counts, but still need to turn them into probabilities\n    probs = {}\n    # dict.items() gives us a dictionary's (key, value) pairs as a sequence of tuples.\n    for prev, nexts in counts.items():\n        # The total number of spins that landed on prev (not counting the very last spin)\n        total = sum(nexts.values())\n        # Take the nects dictionary and normalize it so that its values sum to 1 (and represent probabilities)\n        sub_probs = {next_spin: next_count/total\n                for next_spin, next_count in nexts.items()}\n        probs[prev] = sub_probs\n    return probs\n\n```"
          },
          "metadata": {}
        }
      ]
    },
    {
      "metadata": {
        "_uuid": "de2b3522d2a8b026258862b3c3761ad0c0cad5c7"
      },
      "cell_type": "markdown",
      "source": "If you have any questions, be sure to post them on the [forums](https://www.kaggle.com/learn-forum).\n\nRemember that your notebook is private by default, and in order to share it with other people or ask for help with it, you'll need to make it public. First, you'll need to save a version of your notebook that shows your current work by hitting the \"Commit & Run\" button. (Your work is saved automatically, but versioning your work lets you go back and look at what it was like at the point you saved it. It also let's you share a nice compiled notebook instead of just the raw code.) Then, once your notebook is finished running, you can go to the Settings tab in the panel to the left (you may have to expand it by hitting the [<] button next to the \"Commit & Run\" button) and setting the \"Visibility\" dropdown to \"Public\".\n\n# Keep Going\n\nWhen you're ready to continue, [click here](https://www.kaggle.com/colinmorris/working-with-external-libraries) to continue on to the next tutorial on imports."
    }
  ],
  "metadata": {
    "kernelspec": {
      "display_name": "Python 3",
      "language": "python",
      "name": "python3"
    },
    "language_info": {
      "name": "python",
      "version": "3.6.6",
      "mimetype": "text/x-python",
      "codemirror_mode": {
        "name": "ipython",
        "version": 3
      },
      "pygments_lexer": "ipython3",
      "nbconvert_exporter": "python",
      "file_extension": ".py"
    },
    "learntools_metadata": {
      "lesson_index": 5,
      "type": "exercise"
    }
  },
  "nbformat": 4,
  "nbformat_minor": 1
}