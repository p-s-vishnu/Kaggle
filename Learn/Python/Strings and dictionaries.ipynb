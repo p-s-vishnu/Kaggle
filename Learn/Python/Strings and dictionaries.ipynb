{
  "cells": [
    {
      "metadata": {
        "_uuid": "4666ccb7ea75f54053f69d74cbd6f5e3bc2685dd"
      },
      "cell_type": "markdown",
      "source": "These exercises accompany the tutorial on [strings and dictionaries](https://www.kaggle.com/colinmorris/strings-and-dictionaries).\n\nRun the setup code below before working on the questions (and run it again if you leave this notebook and come back later)."
    },
    {
      "metadata": {
        "_uuid": "3e38602e0e263a4fb49e9f8f73ec09a19d3a72b4",
        "trusted": true
      },
      "cell_type": "code",
      "source": "# SETUP. You don't need to worry for now about what this code does or how it works. If you're ever curious about the \n# code behind these exercises, it's available under an open source license here: https://github.com/Kaggle/learntools/\nfrom learntools.core import binder; binder.bind(globals())\nfrom learntools.python.ex6 import *\nprint('Setup complete.')",
      "execution_count": 1,
      "outputs": [
        {
          "output_type": "stream",
          "text": "Setup complete.\n",
          "name": "stdout"
        }
      ]
    },
    {
      "metadata": {
        "_uuid": "7bac70884b572ed55f0bc376e1626921ab6d7781"
      },
      "cell_type": "markdown",
      "source": "# Exercises"
    },
    {
      "metadata": {
        "_uuid": "c0e5287fa5b7aa00ba64c91227983a96e8e19073"
      },
      "cell_type": "markdown",
      "source": "## 0. \n\nLet's start with a string lightning round to warm up. What are the lengths of the strings below?\n\nFor each of the five strings below, predict what `len()` would return when passed that string. Use the variable `length` to record your answer, then run the cell to check whether you were right."
    },
    {
      "metadata": {
        "_uuid": "912eca65ced6ebf9cf20d2d99c154748ade8313d",
        "trusted": true
      },
      "cell_type": "code",
      "source": "a = \"\"\nlength = 0\nq0.a.check()",
      "execution_count": 2,
      "outputs": [
        {
          "output_type": "display_data",
          "data": {
            "text/plain": "Correct: \n\nThe empty string has length zero. Note that the empty string is also the only string that Python considers as False when converting to boolean.",
            "text/markdown": "<span style=\"color:#33cc33\">Correct:</span> \n\nThe empty string has length zero. Note that the empty string is also the only string that Python considers as False when converting to boolean."
          },
          "metadata": {}
        }
      ]
    },
    {
      "metadata": {
        "_uuid": "b3cfa5478063dd7302b2b71aadf1999c9886f027",
        "trusted": true
      },
      "cell_type": "code",
      "source": "b = \"it's ok\"\nlength = 7\nq0.b.check()",
      "execution_count": 10,
      "outputs": [
        {
          "output_type": "display_data",
          "data": {
            "text/plain": "Correct: \n\nKeep in mind Python includes spaces (and punctuation) when counting string length.",
            "text/markdown": "<span style=\"color:#33cc33\">Correct:</span> \n\nKeep in mind Python includes spaces (and punctuation) when counting string length."
          },
          "metadata": {}
        }
      ]
    },
    {
      "metadata": {
        "_uuid": "268fb5693e687717298ec844af920dbff33305c3",
        "trusted": true
      },
      "cell_type": "code",
      "source": "c = 'it\\'s ok'\nlength = 7\nq0.c.check()",
      "execution_count": 12,
      "outputs": [
        {
          "output_type": "display_data",
          "data": {
            "text/plain": "Correct: \n\nEven though we use different syntax to create it, the string `c` is identical to `b`. In particular, note that the backslash is not part of the string, so it doesn't contribute to its length.",
            "text/markdown": "<span style=\"color:#33cc33\">Correct:</span> \n\nEven though we use different syntax to create it, the string `c` is identical to `b`. In particular, note that the backslash is not part of the string, so it doesn't contribute to its length."
          },
          "metadata": {}
        }
      ]
    },
    {
      "metadata": {
        "_uuid": "ceaece3cf39d96e6f7d97cf60a47009ea6003774",
        "trusted": true
      },
      "cell_type": "code",
      "source": "d = \"\"\"hey\"\"\"\nlength = 3\nq0.d.check()",
      "execution_count": 15,
      "outputs": [
        {
          "output_type": "display_data",
          "data": {
            "text/plain": "Correct: \n\nThe fact that this string was created using triple-quote syntax doesn't make any difference in terms of its content or length. This string is exactly the same as `'hey'`.",
            "text/markdown": "<span style=\"color:#33cc33\">Correct:</span> \n\nThe fact that this string was created using triple-quote syntax doesn't make any difference in terms of its content or length. This string is exactly the same as `'hey'`."
          },
          "metadata": {}
        }
      ]
    },
    {
      "metadata": {
        "_uuid": "650f801821b4971666b646082b892bc10d5475bf",
        "trusted": true
      },
      "cell_type": "code",
      "source": "e = '\\n'\nlength = 1\nq0.e.check()",
      "execution_count": 17,
      "outputs": [
        {
          "output_type": "display_data",
          "data": {
            "text/plain": "Correct: \n\nThe newline character is just a single character! (Even though we represent it to Python using a combination of two characters.)",
            "text/markdown": "<span style=\"color:#33cc33\">Correct:</span> \n\nThe newline character is just a single character! (Even though we represent it to Python using a combination of two characters.)"
          },
          "metadata": {}
        }
      ]
    },
    {
      "metadata": {
        "_uuid": "6e04c2f4cf59a89d02ebeef9c19c8399b66078af"
      },
      "cell_type": "markdown",
      "source": "## 1.\n\nThere is a saying that \"Data scientists spend 80% of their time cleaning data, and 20% of their time complaining about cleaning data.\" Let's see if you can write a function to help clean US zip code data. Given a string, it should return whether or not that string represents a valid zip code. For our purposes, a valid zip code is any string consisting of exactly 5 digits.\n\nHINT: `str` has a method that will be useful here. Use `help(str)` to review a list of string methods."
    },
    {
      "metadata": {
        "trusted": true,
        "_uuid": "34087c0254c7169a896eeb29bbf4238ebc232834"
      },
      "cell_type": "code",
      "source": "help(str)",
      "execution_count": 18,
      "outputs": [
        {
          "output_type": "stream",
          "text": "Help on class str in module builtins:\n\nclass str(object)\n |  str(object='') -> str\n |  str(bytes_or_buffer[, encoding[, errors]]) -> str\n |  \n |  Create a new string object from the given object. If encoding or\n |  errors is specified, then the object must expose a data buffer\n |  that will be decoded using the given encoding and error handler.\n |  Otherwise, returns the result of object.__str__() (if defined)\n |  or repr(object).\n |  encoding defaults to sys.getdefaultencoding().\n |  errors defaults to 'strict'.\n |  \n |  Methods defined here:\n |  \n |  __add__(self, value, /)\n |      Return self+value.\n |  \n |  __contains__(self, key, /)\n |      Return key in self.\n |  \n |  __eq__(self, value, /)\n |      Return self==value.\n |  \n |  __format__(...)\n |      S.__format__(format_spec) -> str\n |      \n |      Return a formatted version of S as described by format_spec.\n |  \n |  __ge__(self, value, /)\n |      Return self>=value.\n |  \n |  __getattribute__(self, name, /)\n |      Return getattr(self, name).\n |  \n |  __getitem__(self, key, /)\n |      Return self[key].\n |  \n |  __getnewargs__(...)\n |  \n |  __gt__(self, value, /)\n |      Return self>value.\n |  \n |  __hash__(self, /)\n |      Return hash(self).\n |  \n |  __iter__(self, /)\n |      Implement iter(self).\n |  \n |  __le__(self, value, /)\n |      Return self<=value.\n |  \n |  __len__(self, /)\n |      Return len(self).\n |  \n |  __lt__(self, value, /)\n |      Return self<value.\n |  \n |  __mod__(self, value, /)\n |      Return self%value.\n |  \n |  __mul__(self, value, /)\n |      Return self*value.\n |  \n |  __ne__(self, value, /)\n |      Return self!=value.\n |  \n |  __new__(*args, **kwargs) from builtins.type\n |      Create and return a new object.  See help(type) for accurate signature.\n |  \n |  __repr__(self, /)\n |      Return repr(self).\n |  \n |  __rmod__(self, value, /)\n |      Return value%self.\n |  \n |  __rmul__(self, value, /)\n |      Return value*self.\n |  \n |  __sizeof__(...)\n |      S.__sizeof__() -> size of S in memory, in bytes\n |  \n |  __str__(self, /)\n |      Return str(self).\n |  \n |  capitalize(...)\n |      S.capitalize() -> str\n |      \n |      Return a capitalized version of S, i.e. make the first character\n |      have upper case and the rest lower case.\n |  \n |  casefold(...)\n |      S.casefold() -> str\n |      \n |      Return a version of S suitable for caseless comparisons.\n |  \n |  center(...)\n |      S.center(width[, fillchar]) -> str\n |      \n |      Return S centered in a string of length width. Padding is\n |      done using the specified fill character (default is a space)\n |  \n |  count(...)\n |      S.count(sub[, start[, end]]) -> int\n |      \n |      Return the number of non-overlapping occurrences of substring sub in\n |      string S[start:end].  Optional arguments start and end are\n |      interpreted as in slice notation.\n |  \n |  encode(...)\n |      S.encode(encoding='utf-8', errors='strict') -> bytes\n |      \n |      Encode S using the codec registered for encoding. Default encoding\n |      is 'utf-8'. errors may be given to set a different error\n |      handling scheme. Default is 'strict' meaning that encoding errors raise\n |      a UnicodeEncodeError. Other possible values are 'ignore', 'replace' and\n |      'xmlcharrefreplace' as well as any other name registered with\n |      codecs.register_error that can handle UnicodeEncodeErrors.\n |  \n |  endswith(...)\n |      S.endswith(suffix[, start[, end]]) -> bool\n |      \n |      Return True if S ends with the specified suffix, False otherwise.\n |      With optional start, test S beginning at that position.\n |      With optional end, stop comparing S at that position.\n |      suffix can also be a tuple of strings to try.\n |  \n |  expandtabs(...)\n |      S.expandtabs(tabsize=8) -> str\n |      \n |      Return a copy of S where all tab characters are expanded using spaces.\n |      If tabsize is not given, a tab size of 8 characters is assumed.\n |  \n |  find(...)\n |      S.find(sub[, start[, end]]) -> int\n |      \n |      Return the lowest index in S where substring sub is found,\n |      such that sub is contained within S[start:end].  Optional\n |      arguments start and end are interpreted as in slice notation.\n |      \n |      Return -1 on failure.\n |  \n |  format(...)\n |      S.format(*args, **kwargs) -> str\n |      \n |      Return a formatted version of S, using substitutions from args and kwargs.\n |      The substitutions are identified by braces ('{' and '}').\n |  \n |  format_map(...)\n |      S.format_map(mapping) -> str\n |      \n |      Return a formatted version of S, using substitutions from mapping.\n |      The substitutions are identified by braces ('{' and '}').\n |  \n |  index(...)\n |      S.index(sub[, start[, end]]) -> int\n |      \n |      Return the lowest index in S where substring sub is found, \n |      such that sub is contained within S[start:end].  Optional\n |      arguments start and end are interpreted as in slice notation.\n |      \n |      Raises ValueError when the substring is not found.\n |  \n |  isalnum(...)\n |      S.isalnum() -> bool\n |      \n |      Return True if all characters in S are alphanumeric\n |      and there is at least one character in S, False otherwise.\n |  \n |  isalpha(...)\n |      S.isalpha() -> bool\n |      \n |      Return True if all characters in S are alphabetic\n |      and there is at least one character in S, False otherwise.\n |  \n |  isdecimal(...)\n |      S.isdecimal() -> bool\n |      \n |      Return True if there are only decimal characters in S,\n |      False otherwise.\n |  \n |  isdigit(...)\n |      S.isdigit() -> bool\n |      \n |      Return True if all characters in S are digits\n |      and there is at least one character in S, False otherwise.\n |  \n |  isidentifier(...)\n |      S.isidentifier() -> bool\n |      \n |      Return True if S is a valid identifier according\n |      to the language definition.\n |      \n |      Use keyword.iskeyword() to test for reserved identifiers\n |      such as \"def\" and \"class\".\n |  \n |  islower(...)\n |      S.islower() -> bool\n |      \n |      Return True if all cased characters in S are lowercase and there is\n |      at least one cased character in S, False otherwise.\n |  \n |  isnumeric(...)\n |      S.isnumeric() -> bool\n |      \n |      Return True if there are only numeric characters in S,\n |      False otherwise.\n |  \n |  isprintable(...)\n |      S.isprintable() -> bool\n |      \n |      Return True if all characters in S are considered\n |      printable in repr() or S is empty, False otherwise.\n |  \n |  isspace(...)\n |      S.isspace() -> bool\n |      \n |      Return True if all characters in S are whitespace\n |      and there is at least one character in S, False otherwise.\n |  \n |  istitle(...)\n |      S.istitle() -> bool\n |      \n |      Return True if S is a titlecased string and there is at least one\n |      character in S, i.e. upper- and titlecase characters may only\n |      follow uncased characters and lowercase characters only cased ones.\n |      Return False otherwise.\n |  \n |  isupper(...)\n |      S.isupper() -> bool\n |      \n |      Return True if all cased characters in S are uppercase and there is\n |      at least one cased character in S, False otherwise.\n |  \n |  join(...)\n |      S.join(iterable) -> str\n |      \n |      Return a string which is the concatenation of the strings in the\n |      iterable.  The separator between elements is S.\n |  \n |  ljust(...)\n |      S.ljust(width[, fillchar]) -> str\n |      \n |      Return S left-justified in a Unicode string of length width. Padding is\n |      done using the specified fill character (default is a space).\n |  \n |  lower(...)\n |      S.lower() -> str\n |      \n |      Return a copy of the string S converted to lowercase.\n |  \n |  lstrip(...)\n |      S.lstrip([chars]) -> str\n |      \n |      Return a copy of the string S with leading whitespace removed.\n |      If chars is given and not None, remove characters in chars instead.\n |  \n |  partition(...)\n |      S.partition(sep) -> (head, sep, tail)\n |      \n |      Search for the separator sep in S, and return the part before it,\n |      the separator itself, and the part after it.  If the separator is not\n |      found, return S and two empty strings.\n |  \n |  replace(...)\n |      S.replace(old, new[, count]) -> str\n |      \n |      Return a copy of S with all occurrences of substring\n |      old replaced by new.  If the optional argument count is\n |      given, only the first count occurrences are replaced.\n |  \n |  rfind(...)\n |      S.rfind(sub[, start[, end]]) -> int\n |      \n |      Return the highest index in S where substring sub is found,\n |      such that sub is contained within S[start:end].  Optional\n |      arguments start and end are interpreted as in slice notation.\n |      \n |      Return -1 on failure.\n |  \n |  rindex(...)\n |      S.rindex(sub[, start[, end]]) -> int\n |      \n |      Return the highest index in S where substring sub is found,\n |      such that sub is contained within S[start:end].  Optional\n |      arguments start and end are interpreted as in slice notation.\n |      \n |      Raises ValueError when the substring is not found.\n |  \n |  rjust(...)\n |      S.rjust(width[, fillchar]) -> str\n |      \n |      Return S right-justified in a string of length width. Padding is\n |      done using the specified fill character (default is a space).\n |  \n |  rpartition(...)\n |      S.rpartition(sep) -> (head, sep, tail)\n |      \n |      Search for the separator sep in S, starting at the end of S, and return\n |      the part before it, the separator itself, and the part after it.  If the\n |      separator is not found, return two empty strings and S.\n |  \n |  rsplit(...)\n |      S.rsplit(sep=None, maxsplit=-1) -> list of strings\n |      \n |      Return a list of the words in S, using sep as the\n |      delimiter string, starting at the end of the string and\n |      working to the front.  If maxsplit is given, at most maxsplit\n |      splits are done. If sep is not specified, any whitespace string\n |      is a separator.\n |  \n |  rstrip(...)\n |      S.rstrip([chars]) -> str\n |      \n |      Return a copy of the string S with trailing whitespace removed.\n |      If chars is given and not None, remove characters in chars instead.\n |  \n |  split(...)\n |      S.split(sep=None, maxsplit=-1) -> list of strings\n |      \n |      Return a list of the words in S, using sep as the\n |      delimiter string.  If maxsplit is given, at most maxsplit\n |      splits are done. If sep is not specified or is None, any\n |      whitespace string is a separator and empty strings are\n |      removed from the result.\n |  \n |  splitlines(...)\n |      S.splitlines([keepends]) -> list of strings\n |      \n |      Return a list of the lines in S, breaking at line boundaries.\n |      Line breaks are not included in the resulting list unless keepends\n |      is given and true.\n |  \n |  startswith(...)\n |      S.startswith(prefix[, start[, end]]) -> bool\n |      \n |      Return True if S starts with the specified prefix, False otherwise.\n |      With optional start, test S beginning at that position.\n |      With optional end, stop comparing S at that position.\n |      prefix can also be a tuple of strings to try.\n |  \n |  strip(...)\n |      S.strip([chars]) -> str\n |      \n |      Return a copy of the string S with leading and trailing\n |      whitespace removed.\n |      If chars is given and not None, remove characters in chars instead.\n |  \n |  swapcase(...)\n |      S.swapcase() -> str\n |      \n |      Return a copy of S with uppercase characters converted to lowercase\n |      and vice versa.\n |  \n |  title(...)\n |      S.title() -> str\n |      \n |      Return a titlecased version of S, i.e. words start with title case\n |      characters, all remaining cased characters have lower case.\n |  \n |  translate(...)\n |      S.translate(table) -> str\n |      \n |      Return a copy of the string S in which each character has been mapped\n |      through the given translation table. The table must implement\n |      lookup/indexing via __getitem__, for instance a dictionary or list,\n |      mapping Unicode ordinals to Unicode ordinals, strings, or None. If\n |      this operation raises LookupError, the character is left untouched.\n |      Characters mapped to None are deleted.\n |  \n |  upper(...)\n |      S.upper() -> str\n |      \n |      Return a copy of S converted to uppercase.\n |  \n |  zfill(...)\n |      S.zfill(width) -> str\n |      \n |      Pad a numeric string S with zeros on the left, to fill a field\n |      of the specified width. The string S is never truncated.\n |  \n |  ----------------------------------------------------------------------\n |  Static methods defined here:\n |  \n |  maketrans(x, y=None, z=None, /)\n |      Return a translation table usable for str.translate().\n |      \n |      If there is only one argument, it must be a dictionary mapping Unicode\n |      ordinals (integers) or characters to Unicode ordinals, strings or None.\n |      Character keys will be then converted to ordinals.\n |      If there are two arguments, they must be strings of equal length, and\n |      in the resulting dictionary, each character in x will be mapped to the\n |      character at the same position in y. If there is a third argument, it\n |      must be a string, whose characters will be mapped to None in the result.\n\n",
          "name": "stdout"
        }
      ]
    },
    {
      "metadata": {
        "_uuid": "715d9e16086ab99f8fa195152097ded7c3eda5dc",
        "trusted": true
      },
      "cell_type": "code",
      "source": "def is_valid_zip(zip_code):\n    \"\"\"Returns whether the input string is a valid (5 digit) zip code\n    \"\"\"\n    return zip_code.isdigit() and len(zip_code) == 5\n\nq1.check()",
      "execution_count": 19,
      "outputs": [
        {
          "output_type": "display_data",
          "data": {
            "text/plain": "Correct",
            "text/markdown": "<span style=\"color:#33cc33\">Correct</span>"
          },
          "metadata": {}
        }
      ]
    },
    {
      "metadata": {
        "_uuid": "2525db9d4caa2b31061bf7d3989c75dbed91a34a",
        "trusted": true
      },
      "cell_type": "code",
      "source": "#q1.hint()\n#q1.solution()",
      "execution_count": 20,
      "outputs": [
        {
          "output_type": "display_data",
          "data": {
            "text/plain": "Solution: \n```python\ndef is_valid_zip(zip_str):\n    return len(zip_str) == 5 and zip_str.isdigit()\n```",
            "text/markdown": "<span style=\"color:#33cc99\">Solution:</span> \n```python\ndef is_valid_zip(zip_str):\n    return len(zip_str) == 5 and zip_str.isdigit()\n```"
          },
          "metadata": {}
        }
      ]
    },
    {
      "metadata": {
        "_uuid": "7c1080bd1155bada28dd0256858e1f8cc79cd8b4"
      },
      "cell_type": "markdown",
      "source": "## 2.\n\nA researcher has gathered thousands of news articles. But she wants to focus her attention on articles including a specific word. Complete the function below to help her filter her list of articles.\n\nYour function should meet the following criteria\n\n- Do not include documents where the keyword string shows up only as a part of a larger word. For example, if she were looking for the keyword “closed”, you would not include the string “enclosed.” \n- She does not want you to distinguish upper case from lower case letters. So the phrase “Closed the case.” would be included when the keyword is “closed”\n- Do not let periods or commas affect what is matched. “It is closed.” would be included when the keyword is “closed”. But you can assume there are no other types of punctuation."
    },
    {
      "metadata": {
        "_uuid": "b6088397c98b14740d6f487bc91e749d5b2188d0",
        "trusted": false,
        "collapsed": true
      },
      "cell_type": "code",
      "source": "def word_search(doc_list, keyword):\n    \"\"\"\n    Takes a list of documents (each document is a string) and a keyword. \n    Returns list of the index values into the original list for all documents \n    containing the keyword.\n\n    Example:\n    doc_list = [\"The Learn Python Challenge Casino.\", \"They bought a car\", \"Casinoville\"]\n    >>> word_search(doc_list, 'casino')\n    >>> [0]\n    \"\"\"\n    pass\n\n\nq2.check()",
      "execution_count": null,
      "outputs": []
    },
    {
      "metadata": {
        "collapsed": true,
        "_uuid": "ddcaec9dd6228975ba81d600705394d877e3b1c6",
        "trusted": false
      },
      "cell_type": "code",
      "source": "#q2.hint()\n#q2.solution()",
      "execution_count": null,
      "outputs": []
    },
    {
      "metadata": {
        "_uuid": "722d067aac59e09d492a964b6fdb731155056405"
      },
      "cell_type": "markdown",
      "source": "## 3.\n\nNow the researcher wants to supply multiple keywords to search for. Complete the function below to help her.\n\n(You're encouraged to use the `word_search` function you just wrote when implementing this function. Reusing code in this way makes your programs more robust and readable - and it saves typing!)"
    },
    {
      "metadata": {
        "_uuid": "13fdebc08aabe3863832785a3355e5ad503ab407",
        "trusted": false,
        "collapsed": true
      },
      "cell_type": "code",
      "source": "def multi_word_search(doc_list, keywords):\n    \"\"\"\n    Takes list of documents (each document is a string) and a list of keywords.  \n    Returns a dictionary where each key is a keyword, and the value is a list of indices\n    (from doc_list) of the documents containing that keyword\n\n    >>> doc_list = [\"The Learn Python Challenge Casino.\", \"They bought a car and a casino\", \"Casinoville\"]\n    >>> keywords = ['casino', 'they']\n    >>> multi_word_search(doc_list, keywords)\n    {'casino': [0, 1], 'they': [1]}\n    \"\"\"\n    pass\n\nq3.check()",
      "execution_count": null,
      "outputs": []
    },
    {
      "metadata": {
        "collapsed": true,
        "_uuid": "7a845ac35fe97cfcbf126bd659bc59811ef5b179",
        "trusted": false
      },
      "cell_type": "code",
      "source": "#q3.solution()",
      "execution_count": null,
      "outputs": []
    },
    {
      "metadata": {
        "_uuid": "fd4c290cded5a7a2fe137978096213efaa871c85"
      },
      "cell_type": "markdown",
      "source": "## 4. <span title=\"Spicy\" style=\"color: coral\">🌶️🌶️</span>\n\nDiamonds are beautiful, but they are just so expensive. Write a python program to create counterfeit ASCII diamonds such as the following:\n```\n    /\\\n   //\\\\\n  ///\\\\\\\n ////\\\\\\\\\n/////\\\\\\\\\\\n\\\\\\\\\\/////\n \\\\\\\\////\n  \\\\\\///\n   \\\\//\n    \\/\n```\n\nYour function should allow the caller to choose the size of the diamond (in terms of number of lines). The above diamond has a height of 10. Here's a 4-line diamond:\n\n```\n /\\ \n//\\\\\n\\\\//\n \\/ \n```\n\n(You can assume your function will only be called with even numbers)"
    },
    {
      "metadata": {
        "_uuid": "afde47c8e50df65e6bfe70cb9f1d7379df9d94a7",
        "trusted": false,
        "collapsed": true
      },
      "cell_type": "code",
      "source": "def diamond(height):\n    \"\"\"Return a string resembling a diamond of specified height (measured in lines).\n    height must be an even integer.\n    \"\"\"\n    pass\n\n\nq4.check()",
      "execution_count": null,
      "outputs": []
    },
    {
      "metadata": {
        "_uuid": "fa92723659348459b7a46cf8a6c948ec16276d94"
      },
      "cell_type": "markdown",
      "source": "We've provided an example height-4 diamond below as a Python string. It may help to inspect it in the console."
    },
    {
      "metadata": {
        "_uuid": "680c6c9016a8f5fb4e23cbc1182b2165763ff33a",
        "trusted": false,
        "collapsed": true
      },
      "cell_type": "code",
      "source": "d4 = \"\"\" /\\\\ \n//\\\\\\\\\n\\\\\\\\//\n \\\\/ \"\"\"\nprint(d4)",
      "execution_count": null,
      "outputs": []
    },
    {
      "metadata": {
        "collapsed": true,
        "_uuid": "0dc9934a441145f2a72a582a4515ba72b79a9767",
        "trusted": false
      },
      "cell_type": "code",
      "source": "#q4.hint()\n#q4.solution()",
      "execution_count": null,
      "outputs": []
    },
    {
      "metadata": {
        "_uuid": "fd7cacb6994e07af2c05827286f796f0b8f83502"
      },
      "cell_type": "markdown",
      "source": "## 5. <span title=\"Spicy\" style=\"color: coral\">🌶️🌶️</span>\n\nDice may not have any memory, but apparently the roulette wheel at the Learn Challenge Casino does. You’ve received a tip-off that the wheel has some exploitable bias where the probability of landing on a given number changes depending on the number previously landed on. Analyze a list containing a history of roulette spins. \n\nReturn a dictionary where the keys are numbers on the roulette wheel, and the values are dictionaries mapping numbers on the wheel to probabilities, such that `d[n1][n2]` is an estimate of the probability that the next spin will land on n2, given that the previous spin landed on n1."
    },
    {
      "metadata": {
        "_uuid": "125770af0fda35495d2b796cd4c2da45f54751c3",
        "trusted": false,
        "collapsed": true
      },
      "cell_type": "code",
      "source": "def conditional_roulette_probs(history):\n    \"\"\"\n\n    Example: \n    conditional_roulette_probs([1, 3, 1, 5, 1])\n    > {1: {3: 0.5, 5: 0.5}, \n       3: {1: 1.0},\n       5: {1: 1.0}\n      }\n    \"\"\"\n    pass\n\n\nq5.check()",
      "execution_count": null,
      "outputs": []
    },
    {
      "metadata": {
        "_uuid": "b44c608b42e45ac04e466f4797c5e9c71adcaf30",
        "trusted": false,
        "collapsed": true
      },
      "cell_type": "code",
      "source": "#q5.solution()",
      "execution_count": null,
      "outputs": []
    },
    {
      "metadata": {
        "_uuid": "de2b3522d2a8b026258862b3c3761ad0c0cad5c7"
      },
      "cell_type": "markdown",
      "source": "If you have any questions, be sure to post them on the [forums](https://www.kaggle.com/learn-forum).\n\nRemember that your notebook is private by default, and in order to share it with other people or ask for help with it, you'll need to make it public. First, you'll need to save a version of your notebook that shows your current work by hitting the \"Commit & Run\" button. (Your work is saved automatically, but versioning your work lets you go back and look at what it was like at the point you saved it. It also let's you share a nice compiled notebook instead of just the raw code.) Then, once your notebook is finished running, you can go to the Settings tab in the panel to the left (you may have to expand it by hitting the [<] button next to the \"Commit & Run\" button) and setting the \"Visibility\" dropdown to \"Public\".\n\n# Keep Going\n\nWhen you're ready to continue, [click here](https://www.kaggle.com/colinmorris/working-with-external-libraries) to continue on to the next tutorial on imports."
    }
  ],
  "metadata": {
    "kernelspec": {
      "display_name": "Python 3",
      "language": "python",
      "name": "python3"
    },
    "language_info": {
      "name": "python",
      "version": "3.6.6",
      "mimetype": "text/x-python",
      "codemirror_mode": {
        "name": "ipython",
        "version": 3
      },
      "pygments_lexer": "ipython3",
      "nbconvert_exporter": "python",
      "file_extension": ".py"
    },
    "learntools_metadata": {
      "lesson_index": 5,
      "type": "exercise"
    }
  },
  "nbformat": 4,
  "nbformat_minor": 1
}