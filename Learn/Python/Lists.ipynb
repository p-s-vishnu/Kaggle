{
  "cells": [
    {
      "metadata": {
        "_uuid": "470764159bf3631ba64a29b2bafd1d596e9accf1"
      },
      "cell_type": "markdown",
      "source": "These exercises accompany the tutorial on [lists and tuples](https://www.kaggle.com/colinmorris/lists).\n\nAs always be sure to run the setup code below before working on the questions (and if you leave this notebook and come back later, don't forget to run the setup code again)."
    },
    {
      "metadata": {
        "_uuid": "beaca5881d8acf2804fdfc2627feb5ed1b284a47",
        "trusted": true
      },
      "cell_type": "code",
      "source": "# SETUP. You don't need to worry for now about what this code does or how it works. If you're ever curious about the \n# code behind these exercises, it's available under an open source license here: https://github.com/Kaggle/learntools/\nfrom learntools.core import binder; binder.bind(globals())\nfrom learntools.python.ex4 import *\nprint('Setup complete.')",
      "execution_count": 1,
      "outputs": [
        {
          "output_type": "stream",
          "text": "Setup complete.\n",
          "name": "stdout"
        }
      ]
    },
    {
      "metadata": {
        "_uuid": "17215c9f9a9f3d11265fce26b7fa8001596ba5d9"
      },
      "cell_type": "markdown",
      "source": "# Exercises"
    },
    {
      "metadata": {
        "_uuid": "5890448653ef4abe446bf54f17cf052f5f134d49"
      },
      "cell_type": "markdown",
      "source": "## 1.\n\nComplete the function below according to its docstring."
    },
    {
      "metadata": {
        "_uuid": "bdab20e8f51f70b46926eb375217f46597db665c",
        "trusted": true,
        "collapsed": true
      },
      "cell_type": "code",
      "source": "def select_second(L):\n    \"\"\"Return the second element of the given list. If the list has no second\n    element, return None.\n    \"\"\"\n    return L[1] if len(L) > 1 else None \nq1.check()",
      "execution_count": null,
      "outputs": []
    },
    {
      "metadata": {
        "_uuid": "7d97dc0efabf0a72c39fa925190ae691313e3045",
        "trusted": true,
        "collapsed": true
      },
      "cell_type": "code",
      "source": "#q1.hint()\n#q1.solution()",
      "execution_count": null,
      "outputs": []
    },
    {
      "metadata": {
        "_uuid": "f03a0983d521ff948a0d40186649cea780f3d699"
      },
      "cell_type": "markdown",
      "source": "## 2.\n\nYou are analyzing sports teams.  Members of each team are stored in a list. The Coach is the first name in the list, the captain is the second name in the list, and other players are listed after that. \nThese lists are stored in another list, which starts with the best team and proceeds through the list to the worst team last.  Complete the function below to select the **captain** of the worst team."
    },
    {
      "metadata": {
        "_uuid": "d02bd2d11986300032f35890b207138eb83fad13",
        "trusted": true,
        "collapsed": true
      },
      "cell_type": "code",
      "source": "def losing_team_captain(teams):\n    \"\"\"Given a list of teams, where each team is a list of names, return the 2nd player (captain)\n    from the last listed team\n    \"\"\"\n    return teams[- 1][1]\n\nq2.check()",
      "execution_count": null,
      "outputs": []
    },
    {
      "metadata": {
        "_uuid": "1543d1bc73c50f7ddb64d6c270f52a74377c1c5f",
        "trusted": true,
        "collapsed": true
      },
      "cell_type": "code",
      "source": "#q2.hint()\n#q2.solution()",
      "execution_count": null,
      "outputs": []
    },
    {
      "metadata": {
        "_uuid": "2f4415d4b4e830ed1cd6b42d785cfcfecbccc596"
      },
      "cell_type": "markdown",
      "source": "## 3.\n\nThe next iteration of Mario Kart will feature an extra-infuriating new item, the *Purple Shell*. When used, it warps the last place racer into first place and the first place racer into last place. Complete the function below to implement the Purple Shell's effect."
    },
    {
      "metadata": {
        "_uuid": "ca62fc4bebf37b3dffdc725c2fa8675c153cdd54",
        "trusted": true,
        "collapsed": true
      },
      "cell_type": "code",
      "source": "def purple_shell(racers):\n    \"\"\"Given a list of racers, set the first place racer (at the front of the list) to last\n    place and vice versa.\n    \n    >>> r = [\"Mario\", \"Bowser\", \"Luigi\"]\n    >>> purple_shell(r)\n    >>> r\n    [\"Luigi\", \"Bowser\", \"Mario\"]\n    \"\"\"\n    racers[0], racers[-1] = racers[-1], racers[0] \n\nq3.check()",
      "execution_count": null,
      "outputs": []
    },
    {
      "metadata": {
        "collapsed": true,
        "_uuid": "a362169e2ac6e4de8d4939ced092856fffce28ce",
        "trusted": false
      },
      "cell_type": "code",
      "source": "#q3.hint()\n#q3.solution()",
      "execution_count": null,
      "outputs": []
    },
    {
      "metadata": {
        "_uuid": "0f99f627cc3be1fd232c81890282b7b1b405ae7e"
      },
      "cell_type": "markdown",
      "source": "## 4.\n\nWhat are the lengths of the following lists? Fill in the variable `lengths` with your predictions. (Try to make a prediction for each list *without* just calling `len()` on it.)"
    },
    {
      "metadata": {
        "_uuid": "0862be47dcb6e243e7b5911c70d1636df380b2bc",
        "trusted": true,
        "collapsed": true
      },
      "cell_type": "code",
      "source": "a = [1, 2, 3]\nb = [1, [2, 3]]\nc = []\nd = [1, 2, 3][1:]\n\n# Put your predictions in the list below. Lengths should contain 4 numbers, the\n# first being the length of a, the second being the length of b and so on.\nlengths = [3, 2, 0, 2]\n\nq4.check()",
      "execution_count": null,
      "outputs": []
    },
    {
      "metadata": {
        "collapsed": true,
        "_uuid": "1c32e4d3676e7e80594b788997f11b2779f02e79",
        "trusted": false
      },
      "cell_type": "code",
      "source": "# line below provides some explanation\n#q4.solution()",
      "execution_count": null,
      "outputs": []
    },
    {
      "metadata": {
        "_uuid": "9dee019933675800b6d055ddf65bf0924bdbe0e3"
      },
      "cell_type": "markdown",
      "source": "## 5. <span title=\"A bit spicy\" style=\"color: darkgreen \">🌶️</span>\n\nWe're using lists to record people who attended our party and what order they arrived in. For example, the following list represents a party with 7 guests, in which Adela showed up first and Ford was the last to arrive:\n\n    party_attendees = ['Adela', 'Fleda', 'Owen', 'May', 'Mona', 'Gilbert', 'Ford']\n\nA guest is considered 'fashionably late' if they arrived after at least half of the party's guests. However, they must not be the very last guest (that's taking it too far). In the above example, Mona and Gilbert are the only guests who were fashionably late.\n\nComplete the function below which takes a list of party attendees as well as a person, and tells us whether that person is fashionably late."
    },
    {
      "metadata": {
        "trusted": true,
        "_uuid": "cc319c5a80e0368f91142b7a90ac88426740311b",
        "collapsed": true
      },
      "cell_type": "code",
      "source": "help(list.index)",
      "execution_count": null,
      "outputs": []
    },
    {
      "metadata": {
        "_uuid": "e9b6d41475290ccefcde083a6a313269bf8fb62c",
        "trusted": true
      },
      "cell_type": "code",
      "source": "def fashionably_late(arrivals, name):\n    \"\"\"Given an ordered list of arrivals to the party and a name, return whether the guest with that\n    name was fashionably late.\n    \"\"\"\n    start, end = calculate_index(arrivals)\n    arrival = arrivals.index(name)\n    return arrival >= start and arrival < end\n\ndef calculate_index(arrivals):\n    size = len(arrivals) \n    return size / 2, size - 1\n\nq5.check()",
      "execution_count": 2,
      "outputs": [
        {
          "output_type": "display_data",
          "data": {
            "text/plain": "<IPython.core.display.Javascript object>",
            "application/javascript": "parent.postMessage({\"jupyterEvent\": \"custom.exercise_interaction\", \"data\": {\"outcomeType\": 1, \"valueTowardsCompletion\": 0.2, \"interactionType\": 1, \"learnTutorialId\": 108, \"questionId\": \"5_FashionablyLate\", \"learnToolsVersion\": \"0.2.2\", \"failureMessage\": \"\", \"exceptionClass\": \"\", \"trace\": \"\"}}, \"*\")"
          },
          "metadata": {}
        },
        {
          "output_type": "display_data",
          "data": {
            "text/plain": "Correct",
            "text/markdown": "<span style=\"color:#33cc33\">Correct</span>"
          },
          "metadata": {}
        }
      ]
    },
    {
      "metadata": {
        "_uuid": "c1fd7e79353cb7e284245f117fc172dcdb65022d",
        "trusted": true,
        "collapsed": true
      },
      "cell_type": "code",
      "source": "#q5.hint()\nq5.solution()",
      "execution_count": null,
      "outputs": []
    },
    {
      "metadata": {
        "_uuid": "6f3d5679f733b942b9677184538ae182e7914b5c"
      },
      "cell_type": "markdown",
      "source": "## 6. <span style=\"color: firebrick\" title=\"This is an optional extra-spicy question\">🌶️🌶️🌶️</span>\n\n*This question is intended more as a fun riddle than a test of your programming prowess :)*\n\nImplement the body of the following function **using only tools we've covered so far - NO LOOPS!**"
    },
    {
      "metadata": {
        "_uuid": "e02eb5e4fed0bce857e6cd86b1efd5147ee3a223",
        "trusted": true
      },
      "cell_type": "code",
      "source": "def count_negatives(nums):\n    \"\"\"Return the number of negative numbers in the given list.\n    \n    >>> count_negatives([5, -1, -2, 0, 3])\n    2\n    \"\"\"\n    nums.append(0)\n    nums.sort()\n    return nums.index(0)\n\nq6.check()",
      "execution_count": 5,
      "outputs": [
        {
          "output_type": "display_data",
          "data": {
            "text/plain": "<IPython.core.display.Javascript object>",
            "application/javascript": "parent.postMessage({\"jupyterEvent\": \"custom.exercise_interaction\", \"data\": {\"outcomeType\": 1, \"valueTowardsCompletion\": 0.02702702702702703, \"interactionType\": 1, \"learnTutorialId\": 108, \"questionId\": \"6_CountNegativesRiddle\", \"learnToolsVersion\": \"0.2.2\", \"failureMessage\": \"\", \"exceptionClass\": \"\", \"trace\": \"\"}}, \"*\")"
          },
          "metadata": {}
        },
        {
          "output_type": "display_data",
          "data": {
            "text/plain": "Correct: \n\n\nHere's a non-obvious solution using only tools shown in the tutorial notebook:\n```python\ndef count_negatives(nums):\n    nums.append(0)\n    # We could also have used the list.sort() method, which modifies a list, putting it in sorted order.\n    nums = sorted(nums)\n    return nums.index(0)\n```\n\nThe above implementation relies on the fact that `list.index` returns the index of the *first* occurrence of a value. (You can verify this by calling `help(list.index)`.) So if, after sorting the list in ascending order, the value 0 is at index 0, then the number of negatives is 0. If 0 is at index 2 (i.e. the third element), then there are two elements smaller than 0. And so on.\n\n*Note*: it's usually considered \"impolite\" to modify a list that someone passes to your function without giving them some warning (i.e. unless the docstring says that it modifies its input). So, if we wanted to be nice, we could have started by making a copy of nums using the `list.copy()` method (e.g. `our_nums = nums.copy()`), and then working with that copy rather than the original.\n\nIf you're a big Lisp fan, you might have written this technically compliant solution (we haven't talked about recursion, but I guess this doesn't use any syntax or functions we haven't seen yet...):\n\n```python\ndef count_negatives(nums):\n    # Equivalent to \"if len(nums) == 0\". An empty list is 'falsey'.\n    if not nums:\n        return 0\n    else:\n        # Implicitly converting a boolean to an int! See question 6 of the\n        # exercise on booleans and conditionals\n        return (nums[0] < 0) + count_negatives(nums[1:])\n```",
            "text/markdown": "<span style=\"color:#33cc33\">Correct:</span> \n\n\nHere's a non-obvious solution using only tools shown in the tutorial notebook:\n```python\ndef count_negatives(nums):\n    nums.append(0)\n    # We could also have used the list.sort() method, which modifies a list, putting it in sorted order.\n    nums = sorted(nums)\n    return nums.index(0)\n```\n\nThe above implementation relies on the fact that `list.index` returns the index of the *first* occurrence of a value. (You can verify this by calling `help(list.index)`.) So if, after sorting the list in ascending order, the value 0 is at index 0, then the number of negatives is 0. If 0 is at index 2 (i.e. the third element), then there are two elements smaller than 0. And so on.\n\n*Note*: it's usually considered \"impolite\" to modify a list that someone passes to your function without giving them some warning (i.e. unless the docstring says that it modifies its input). So, if we wanted to be nice, we could have started by making a copy of nums using the `list.copy()` method (e.g. `our_nums = nums.copy()`), and then working with that copy rather than the original.\n\nIf you're a big Lisp fan, you might have written this technically compliant solution (we haven't talked about recursion, but I guess this doesn't use any syntax or functions we haven't seen yet...):\n\n```python\ndef count_negatives(nums):\n    # Equivalent to \"if len(nums) == 0\". An empty list is 'falsey'.\n    if not nums:\n        return 0\n    else:\n        # Implicitly converting a boolean to an int! See question 6 of the\n        # exercise on booleans and conditionals\n        return (nums[0] < 0) + count_negatives(nums[1:])\n```"
          },
          "metadata": {}
        }
      ]
    },
    {
      "metadata": {
        "_uuid": "4d6ef45e411173d0f563a76ec739c2fb825f0d1f",
        "trusted": true
      },
      "cell_type": "code",
      "source": "q6.hint()",
      "execution_count": 3,
      "outputs": [
        {
          "output_type": "display_data",
          "data": {
            "text/plain": "<IPython.core.display.Javascript object>",
            "application/javascript": "parent.postMessage({\"jupyterEvent\": \"custom.exercise_interaction\", \"data\": {\"interactionType\": 2, \"learnTutorialId\": 108, \"questionId\": \"6_CountNegativesRiddle\", \"learnToolsVersion\": \"0.2.2\", \"valueTowardsCompletion\": 0.0, \"failureMessage\": \"\", \"exceptionClass\": \"\", \"trace\": \"\", \"outcomeType\": 4}}, \"*\")"
          },
          "metadata": {}
        },
        {
          "output_type": "display_data",
          "data": {
            "text/plain": "Hint: Can you think of a way you could solve this problem if the input list was guaranteed to be sorted and guaranteed to contain 0?",
            "text/markdown": "<span style=\"color:#3366cc\">Hint:</span> Can you think of a way you could solve this problem if the input list was guaranteed to be sorted and guaranteed to contain 0?"
          },
          "metadata": {}
        }
      ]
    },
    {
      "metadata": {
        "collapsed": true,
        "_uuid": "97d041e9ed8d6090110ade0ff2fce27dee4ff57b",
        "trusted": false
      },
      "cell_type": "code",
      "source": "#q6.solution()",
      "execution_count": null,
      "outputs": []
    },
    {
      "metadata": {
        "_uuid": "870398ee1c0ba9fd918e93161fef3f31ca09072a"
      },
      "cell_type": "markdown",
      "source": "That's it for lists and tuples! If you have any questions or feedback (or just want to argue about whether Pluto should be a planet), head over to the [forums](https://kaggle.com/learn-forum).\n\nRemember that your notebook is private by default, and in order to share it with other people or ask for help with it, you'll need to make it public. First, you'll need to save a version of your notebook that shows your current work by hitting the \"Commit & Run\" button. (Your work is saved automatically, but versioning your work lets you go back and look at what it was like at the point you saved it. It also let's you share a nice compiled notebook instead of just the raw code.) Then, once your notebook is finished running, you can go to the Settings tab in the panel to the left (you may have to expand it by hitting the [<] button next to the \"Commit & Run\" button) and setting the \"Visibility\" dropdown to \"Public\".\n\n# Keep Going\n\nWhen you're ready to continue, [click here](https://www.kaggle.com/colinmorris/loops-and-list-comprehensions) to continue on to the next tutorial on loops and list comprehensions."
    }
  ],
  "metadata": {
    "kernelspec": {
      "display_name": "Python 3",
      "language": "python",
      "name": "python3"
    },
    "language_info": {
      "name": "python",
      "version": "3.6.6",
      "mimetype": "text/x-python",
      "codemirror_mode": {
        "name": "ipython",
        "version": 3
      },
      "pygments_lexer": "ipython3",
      "nbconvert_exporter": "python",
      "file_extension": ".py"
    },
    "learntools_metadata": {
      "lesson_index": 3,
      "type": "exercise"
    }
  },
  "nbformat": 4,
  "nbformat_minor": 1
}