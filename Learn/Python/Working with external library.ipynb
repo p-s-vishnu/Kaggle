{
  "cells": [
    {
      "metadata": {
        "_uuid": "0275303547b27ca5e5f7d4a59ad348a639628048"
      },
      "cell_type": "markdown",
      "source": "These exercises accompany the tutorial on [imports](https://www.kaggle.com/colinmorris/working-with-external-libraries).\n\nThere are only four problems in this last set of exercises, but they're all pretty tricky, so be on guard! If you get stuck, don't hesitate to head to the [Learn Forum](https://kaggle.com/learn-forum) to discuss.\n\nRun the setup code below before working on the questions (and run it again if you leave this notebook and come back later)."
    },
    {
      "metadata": {
        "_uuid": "83d339abe39b677ff3137c1381edc214e10f5c42",
        "trusted": true
      },
      "cell_type": "code",
      "source": "# SETUP. You don't need to worry for now about what this code does or how it works. If you're ever curious about the \n# code behind these exercises, it's available under an open source license here: https://github.com/Kaggle/learntools/\nfrom learntools.core import binder; binder.bind(globals())\nfrom learntools.python.ex7 import *\nprint('Setup complete.')",
      "execution_count": 1,
      "outputs": [
        {
          "output_type": "stream",
          "text": "Setup complete.\n",
          "name": "stdout"
        }
      ]
    },
    {
      "metadata": {
        "_uuid": "9406f224057526e6de51815c73781da86471234d"
      },
      "cell_type": "markdown",
      "source": "# Exercises"
    },
    {
      "metadata": {
        "_uuid": "f2f1c986906b4b0af843c1546e8cce5b3695f6cc"
      },
      "cell_type": "markdown",
      "source": "## 1.\n\nAfter completing [the exercises on lists and tuples](https://www.kaggle.com/kernels/fork/1275177), Jimmy noticed that, according to his `estimate_average_slot_payout` function, the slot machines at the Learn Python Casino are actually rigged *against* the house, and are profitable to play in the long run.\n\nStarting with $200 in his pocket, Jimmy has played the slots 500 times, recording his new balance in a list after each spin. He used Python's `matplotlib` library to make a graph of his balance over time:"
    },
    {
      "metadata": {
        "_uuid": "ca2ee495633aa428a7c5effcdcf7d88d24dbe76f",
        "trusted": true
      },
      "cell_type": "markdown",
      "source": "# Import the jimmy_slots submodule\nfrom learntools.python import jimmy_slots\n# Call the get_graph() function to get Jimmy's graph\ngraph = jimmy_slots.get_graph()\ngraph"
    },
    {
      "metadata": {
        "_uuid": "ca07ba1fd5cfeba0a8b0b83d76abab61c9e3c5a1"
      },
      "cell_type": "markdown",
      "source": "As you can see, he's hit a bit of bad luck recently. He wants to tweet this along with some choice emojis, but, as it looks right now, his followers will probably find it confusing. He's asked if you can help him make the following changes:\n\n1. Add the title \"Results of 500 slot machine pulls\"\n2. Make the y-axis start at 0. \n3. Add the label \"Balance\" to the y-axis\n\nAfter calling `type(graph)` you see that Jimmy's graph is of type `matplotlib.axes._subplots.AxesSubplot`. Hm, that's a new one. By calling `dir(graph)`, you find three methods that seem like they'll be useful: `.set_title()`, `.set_ylim()`, and `.set_ylabel()`. \n\nUse these methods to complete the function `prettify_graph` according to Jimmy's requests. We've already checked off the first request for you (setting a title).\n\n(Remember: if you don't know what these methods do, use the `help()` function!)"
    },
    {
      "metadata": {
        "trusted": true,
        "_uuid": "ffac144d7a3f5cc6a5748216083344b2b8767e04"
      },
      "cell_type": "code",
      "source": "dir(graph)",
      "execution_count": null,
      "outputs": []
    },
    {
      "metadata": {
        "_uuid": "c2b7cd30118c4d10a7fe0d16bdd639f28e454389",
        "trusted": true
      },
      "cell_type": "code",
      "source": "def prettify_graph(graph):\n    \"\"\"Modify the given graph according to Jimmy's requests: add a title, make the y-axis\n    start at 0, label the y-axis. (And, if you're feeling ambitious, format the tick marks\n    as dollar amounts using the \"$\" symbol.)\n    \"\"\"\n    graph.set_title(\"Results of 500 slot machine pulls\")\n    graph.set_ylim(bottom=0)\n    graph.set_ylabel(\"Balance\")\n#     graph.format('$')\n    # Complete steps 2 and 3 here\n\ngraph = jimmy_slots.get_graph()\nprettify_graph(graph)\ngraph",
      "execution_count": null,
      "outputs": []
    },
    {
      "metadata": {
        "trusted": true,
        "_uuid": "f61f264275a075bef811b4ddf107c185a94d21e0",
        "collapsed": true
      },
      "cell_type": "code",
      "source": "help(graph.format_ydata)",
      "execution_count": null,
      "outputs": []
    },
    {
      "metadata": {
        "_uuid": "60cd54caee047fecdbeb4a8afb208cffc446a11d"
      },
      "cell_type": "markdown",
      "source": "**Bonus:** Can you format the numbers on the y-axis so they look like dollar amounts? e.g. $200 instead of just 200.\n\n(We're not going to tell you what method(s) to use here. You'll need to go digging yourself with `dir(graph)` and/or `help(graph)`.)"
    },
    {
      "metadata": {
        "_uuid": "9c7a1a906e0915799cc5b48380bbe03bf547a68f",
        "trusted": true,
        "collapsed": true
      },
      "cell_type": "code",
      "source": "q1.solution()",
      "execution_count": null,
      "outputs": []
    },
    {
      "metadata": {
        "_uuid": "51bfb4dde6f33de8a3c4a1d043054f2eaf326eb8"
      },
      "cell_type": "markdown",
      "source": "## 2. <span title=\"Spicy\" style=\"color: coral\">🌶️🌶️</span>\n\nLuigi is trying to perform an analysis to determine the best items for winning races on the Mario Kart circuit. He has some data in the form of lists of dictionaries that look like...\n\n    [\n        {'name': 'Peach', 'items': ['green shell', 'banana', 'green shell',], 'finish': 3},\n        {'name': 'Bowser', 'items': ['green shell',], 'finish': 1},\n        # Sometimes the racer's name wasn't recorded\n        {'name': None, 'items': ['mushroom',], 'finish': 2},\n        {'name': 'Toad', 'items': ['green shell', 'mushroom'], 'finish': 1},\n    ]\n\n`'items'` is a list of all the power-up items the racer picked up in that race, and `'finish'` was their placement in the race (1 for first place, 3 for third, etc.).\n\nHe wrote the function below to take a list like this and return a dictionary mapping each item to how many times it was picked up by first-place finishers."
    },
    {
      "metadata": {
        "_uuid": "4dab73c8e8014dea3f9a21fa11469178ddf92c15",
        "trusted": true
      },
      "cell_type": "code",
      "source": "def best_items(racers):\n    \"\"\"Given a list of racer dictionaries, return a dictionary mapping items to the number\n    of times those items were picked up by racers who finished in first place.\n    \"\"\"\n    winner_item_counts = {}\n    for i in range(len(racers)):\n        # The i'th racer dictionary\n        racer = racers[i]\n        # We're only interested in racers who finished in first\n        if racer['finish'] == 1:\n            for i in racer['items']:\n                # Add one to the count for this item (adding it to the dict if necessary)\n                if i not in winner_item_counts:\n                    winner_item_counts[i] = 0\n                winner_item_counts[i] += 1\n\n        # Data quality issues :/ Print a warning about racers with no name set. We'll take care of it later.\n        if racer['name'] is None:\n            print(\"WARNING: Encountered racer with unknown name on iteration {}/{} (racer = {})\".format(\n                i+1, len(racers), racer['name'])\n                 )\n    return winner_item_counts",
      "execution_count": null,
      "outputs": []
    },
    {
      "metadata": {
        "_uuid": "b2f52bc7e0562a9c7d2a78164fc5b842e462c266"
      },
      "cell_type": "markdown",
      "source": "He tried it on a small example list above and it seemed to work correctly:"
    },
    {
      "metadata": {
        "_uuid": "493a3d20ba831b1a9fb9812827b384dc5b78e4ea",
        "trusted": true
      },
      "cell_type": "code",
      "source": "sample = [\n    {'name': 'Peach', 'items': ['green shell', 'banana', 'green shell',], 'finish': 3},\n    {'name': 'Bowser', 'items': ['green shell',], 'finish': 1},\n    {'name': None, 'items': ['mushroom',], 'finish': 2},\n    {'name': 'Toad', 'items': ['green shell', 'mushroom'], 'finish': 1},\n]\nbest_items(sample)",
      "execution_count": null,
      "outputs": []
    },
    {
      "metadata": {
        "_uuid": "58077c4a193cba21d129b90e11dd8a154ee08785"
      },
      "cell_type": "markdown",
      "source": "However, when he tried running it on his full dataset, the program crashed with a `TypeError`.\n\nCan you guess why? Try running the code cell below to see the error message Luigi is getting. Once you've identified the bug, fix it in the cell below (so that it runs without any errors).\n\nHint: Luigi's bug is similar to one we encountered in the [tutorial](https://www.kaggle.com/colinmorris/working-with-external-libraries) when we talked about star imports."
    },
    {
      "metadata": {
        "_uuid": "9c381bdd3c381cbf53c09a935bf00a3041e32f73",
        "trusted": true
      },
      "cell_type": "code",
      "source": "# Import luigi's full dataset of race data\nfrom learntools.python.luigi_analysis import full_dataset\n\n# Fix me!\ndef best_items(racers):\n    winner_item_counts = {}\n    for i in range(len(racers)):\n        # The i'th racer dictionary\n        racer = racers[i]\n        # We're only interested in racers who finished in first\n        if racer['finish'] == 1:\n            for j in racer['items']:\n                # Add one to the count for this item (adding it to the dict if necessary)\n                if j not in winner_item_counts:\n                    winner_item_counts[j] = 0\n                winner_item_counts[j] += 1\n        # Data quality issues :/ Print a warning about racers with no name set. We'll take care of it later.\n        if racer['name'] is None:\n            print(\"WARNING: Encountered racer with unknown name on iteration {}/{} (racer = {})\".format(\n                i+1, \n                len(racers), \n                racer['name'])\n                 )\n    return winner_item_counts\n\n# Try analyzing the imported full dataset\nfor data in full_dataset:\n    print(data)\nbest_items(full_dataset)",
      "execution_count": null,
      "outputs": []
    },
    {
      "metadata": {
        "_uuid": "1769500aa26cdebd5d47de1d1225f6ae6b4cdfd5",
        "trusted": true
      },
      "cell_type": "code",
      "source": "# q2.hint()",
      "execution_count": null,
      "outputs": []
    },
    {
      "metadata": {
        "_uuid": "f18b26f477d5ef3043e3f22d4515bf20ceaf0965",
        "trusted": true
      },
      "cell_type": "code",
      "source": "# q2.solution()",
      "execution_count": null,
      "outputs": []
    },
    {
      "metadata": {
        "_uuid": "4b657c94d560138ee9e0c0b1cda069438b45aa49"
      },
      "cell_type": "markdown",
      "source": "## 3. <span title=\"A bit spicy\" style=\"color: darkgreen \">🌶️</span>\n\nSuppose we wanted to create a new type to represent hands in blackjack. One thing we might want to do with this type is overload the comparison operators like `>` and `<=` so that we could use them to check whether one hand beats another. e.g. it'd be cool if we could do this:\n\n```python\n>>> hand1 = BlackjackHand(['K', 'A'])\n>>> hand2 = BlackjackHand(['7', '10', 'A'])\n>>> hand1 > hand2\nTrue\n```\n\nWell, we're not going to do all that in this question (defining custom classes is a bit beyond the scope of these lessons), but the code we're asking you to write in the function below is very similar to what we'd have to write if we were defining our own `BlackjackHand` class. (We'd put it in the `__gt__` magic method to define our custom behaviour for `>`.)\n\nFill in the body of the `blackjack_hand_greater_than` function according to the docstring."
    },
    {
      "metadata": {
        "_uuid": "63bdcb0cd3ef166f248ef8ab141c25e0ddb3a1b4",
        "trusted": true
      },
      "cell_type": "code",
      "source": "def count_hand(hand):\n    aces_count = 0\n    total = 0\n    for item in hand :\n        if item in ['K', 'Q', 'J']:\n            total += 10\n        elif item == 'A':\n            aces_count += 1\n            total += 1\n        else : \n            total += int(item)\n    \n    while total + 10 <= 21 and aces_count > 0:\n        total += 10\n        aces_count -= 1\n    return total\n        \ndef blackjack_hand_greater_than(hand_1, hand_2):\n    \"\"\"\n    Return True if hand_1 beats hand_2, and False otherwise.\n    \n    In order for hand_1 to beat hand_2 the following must be true:\n    - The total of hand_1 must not exceed 21\n    - The total of hand_1 must exceed the total of hand_2 OR hand_2's total must exceed 21\n    \n    Hands are represented as a list of cards. Each card is represented by a string.\n    \n    When adding up a hand's total, cards with numbers count for that many points. Face\n    cards ('J', 'Q', and 'K') are worth 10 points. 'A' can count for 1 or 11.\n    \n    When determining a hand's total, you should try to count aces in the way that \n    maximizes the hand's total without going over 21. e.g. the total of ['A', 'A', '9'] is 21,\n    the total of ['A', 'A', '9', '3'] is 14.\n    \n    Examples:\n    >>> blackjack_hand_greater_than(['K'], ['3', '4'])\n    True\n    >>> blackjack_hand_greater_than(['K'], ['10'])\n    False\n    >>> blackjack_hand_greater_than(['K', 'K', '2'], ['3'])\n    False\n    \"\"\"\n    hand1_count = count_hand(hand_1)\n    hand2_count = count_hand(hand_2)\n        \n    if hand1_count > 21:\n        return False\n    if hand2_count > 21 or hand1_count > hand2_count:\n        return True\n    return False\nq3.check()",
      "execution_count": null,
      "outputs": []
    },
    {
      "metadata": {
        "_uuid": "351068f6ce6144229f173766c1bc28e7c2e7aece",
        "trusted": true
      },
      "cell_type": "code",
      "source": "# q3.hint()\nq3.solution()",
      "execution_count": null,
      "outputs": []
    },
    {
      "metadata": {
        "_uuid": "6e87ed99ac2005091babf9b8ae46a69cb4cb31b3"
      },
      "cell_type": "markdown",
      "source": "## 4. <span title=\"Spicy\" style=\"color: coral\">🌶️🌶️</span>\n\nIn [the previous set of exercises](https://www.kaggle.com/kernels/fork/1275185), you heard a tip-off that the roulette tables at the Learn Python Casino had some quirk where the probability of landing on a particular number was partly dependent on the number the wheel most recently landed on. You wrote a function `conditional_roulette_probs` which returned a dictionary with counts of how often the wheel landed on `x` then `y` for each value of `x` and `y`.\n\nAfter analyzing the output of your function, you've come to the following conclusion: for each wheel in the casino, there is exactly one pair of numbers `a` and `b`, such that, after the wheel lands on `a`, it's significantly more likely to land on `b` than any other number. If the last spin landed on anything other than `a`, then it acts like a normal roulette wheel, with equal probability of landing on any of the 11 numbers (* the casino's wheels are unusually small - they only have the numbers from 0 to 10 inclusive).\n\nIt's time to exploit this quirk for fun and profit. You'll be writing a roulette-playing agent to beat the house. When called, your agent will have an opportunity to sit down at one of the casino's wheels for 100 spins. You don't need to bet on every spin. For example, the agent below bets on a random number unless the last spin landed on 4 (in which case it just watches)."
    },
    {
      "metadata": {
        "collapsed": true,
        "_uuid": "dfa8d93fd2d08698fb67d1dcb9376d1b0bc1d99c",
        "trusted": false
      },
      "cell_type": "code",
      "source": "from learntools.python import roulette\nimport random\n\ndef random_and_superstitious(wheel):\n    \"\"\"Interact with the given wheel over 100 spins with the following strategy:\n    - if the wheel lands on 4, don't bet on the next spin\n    - otherwise, bet on a random number on the wheel (from 0 to 10)\n    \"\"\"\n    last_number = 0\n    while wheel.num_remaining_spins() > 0:\n        if last_number == 4:\n            # Unlucky! Don't bet anything.\n            guess = None\n        else:\n            guess = random.randint(0, 10)\n        last_number = wheel.spin(number_to_bet_on=guess)\n\nroulette.evaluate_roulette_strategy(random_and_superstitious)",
      "execution_count": null,
      "outputs": []
    },
    {
      "metadata": {
        "_uuid": "ba32f549d05734a8f1ee582017fbcb0f715c0757"
      },
      "cell_type": "markdown",
      "source": "As you might have guessed, our random/superstitious agent bleeds money. Can you write an agent that beats the house? (i.e. can you make \"Average gain per simulation\" positive?)\n\nFor more information on the type of object your agent will be passed, try calling `help(roulette.RouletteSession)`. You can also call `help(roulette.evaluate_roulette_strategy)` to see some optional parameters you can change regarding the conditions under which we test your  agent.\n\nHINT: it might help to go back to your [strings and dictionaries exercise notebook](https://www.kaggle.com/kernels/fork/1275185) and review your code for `conditional_roulette_probs` for inspiration."
    },
    {
      "metadata": {
        "collapsed": true,
        "_uuid": "da6dbc448c93f1da32c6917a7d72f53397c57033",
        "trusted": false
      },
      "cell_type": "code",
      "source": "def my_agent(wheel):\n    pass\n\nroulette.evaluate_roulette_strategy(my_agent)",
      "execution_count": null,
      "outputs": []
    },
    {
      "metadata": {
        "_uuid": "e466b46d2d2c872d484603e78640d996c42848fe"
      },
      "cell_type": "markdown",
      "source": "How much profit are you able to reach? Post your results on the forums to see how your strategy compares to others'."
    },
    {
      "metadata": {
        "_uuid": "b5bfb43d6b92ceb5da897791f20fa4a7db032b08"
      },
      "cell_type": "markdown",
      "source": "## The end\n\nYou've finished the Python course. Congrats!\n\nAs always, if you have any questions about these exercises, or anything else you encountered in the course, come to the [Learn Forum](https://kaggle.com/learn-forum).\n\nYou probably didn't put in all these hours of learning Python just to play silly games of chance, right? If you're interested in applying your newfound Python skills to some data science tasks, check out some of our other lessons on [Kaggle Learn](https://www.kaggle.com/learn/overview). Most of them are in Python, including our courses on...\n\n- [Pandas for data manipulation](https://www.kaggle.com/learn/pandas)\n- [Machine learning with scikit-learn](https://www.kaggle.com/learn/machine-learning)\n- [Data visualization](https://www.kaggle.com/learn/data-visualisation)\n- [Deep learning with TensorFlow](https://www.kaggle.com/learn/deep-learning)\n\nHappy Pythoning!"
    }
  ],
  "metadata": {
    "kernelspec": {
      "display_name": "Python 3",
      "language": "python",
      "name": "python3"
    },
    "language_info": {
      "name": "python",
      "version": "3.6.6",
      "mimetype": "text/x-python",
      "codemirror_mode": {
        "name": "ipython",
        "version": 3
      },
      "pygments_lexer": "ipython3",
      "nbconvert_exporter": "python",
      "file_extension": ".py"
    },
    "learntools_metadata": {
      "lesson_index": 6,
      "type": "exercise"
    }
  },
  "nbformat": 4,
  "nbformat_minor": 1
}