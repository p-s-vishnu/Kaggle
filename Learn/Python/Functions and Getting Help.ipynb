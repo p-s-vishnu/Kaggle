{
  "cells": [
    {
      "metadata": {
        "_uuid": "5110b2675da545cd3505db822229a72b0a4f33fa"
      },
      "cell_type": "markdown",
      "source": "These exercises accompany the tutorial on [functions and getting help](https://www.kaggle.com/colinmorris/functions-and-getting-help).\n\nAs before, don't forget to run the setup code below before jumping into question 1."
    },
    {
      "metadata": {
        "_kg_hide-input": true,
        "_kg_hide-output": true,
        "_uuid": "d3422198b66a049bb9b35112149b969899c8ac66",
        "trusted": true
      },
      "cell_type": "code",
      "source": "# SETUP. You don't need to worry for now about what this code does or how it works. If you're ever curious about the \n# code behind these exercises, it's available under an open source license here: https://github.com/Kaggle/learntools/\nfrom learntools.core import binder; binder.bind(globals())\nfrom learntools.python.ex2 import *\nprint('Setup complete.')",
      "execution_count": null,
      "outputs": []
    },
    {
      "metadata": {
        "_uuid": "acc11c77ef0bb8572a2d82d38c7b6588c60ed80d"
      },
      "cell_type": "markdown",
      "source": "# Exercises"
    },
    {
      "metadata": {
        "_uuid": "be48898b320463af3969bf42958e9f51cab7fa8b"
      },
      "cell_type": "markdown",
      "source": "## 1.\n\nComplete the body of the following function according to its docstring.\n\nHINT: Python has a builtin function `round`"
    },
    {
      "metadata": {
        "_uuid": "ccb6d99f30b14dd06bf488716679ec3baa98d46a",
        "trusted": true
      },
      "cell_type": "code",
      "source": "def round_to_two_places(num):\n    \"\"\"Return the given number rounded to two decimal places. \n    \n    >>> round_to_two_places(3.14159)\n    3.14\n    \"\"\"\n    # Replace this body with your own code.\n    # (\"pass\" is a keyword that does literally nothing. We used it as a placeholder\n    # because after we begin a code block, Python requires at least one line of code)\n    return round(num, 2)\n\nq1.check()",
      "execution_count": null,
      "outputs": []
    },
    {
      "metadata": {
        "collapsed": true,
        "_uuid": "e11a220c7d8d68fc7de1d4ab549b74f7888be153",
        "trusted": false
      },
      "cell_type": "code",
      "source": "# Uncomment the following for a hint\n#q1.hint()\n# Or uncomment the following to peek at the solution\n#q1.solution()",
      "execution_count": null,
      "outputs": []
    },
    {
      "metadata": {
        "collapsed": true,
        "_uuid": "e56a151fda8759bcbea74f469ca539d34acdd83e"
      },
      "cell_type": "markdown",
      "source": "## 2.\nThe help for `round` says that `ndigits` (the second argument) may be negative.\nWhat do you think will happen when it is? Try out some examples in the console (at the bottom of the editor) or in a new code cell.\n\nCan you think of a case where this would be useful?"
    },
    {
      "metadata": {
        "_uuid": "3daa50ad9b6a41a613d1041fd870bec2b4cd8574",
        "trusted": true
      },
      "cell_type": "code",
      "source": "round_to_two_places(-1.245)",
      "execution_count": null,
      "outputs": []
    },
    {
      "metadata": {
        "trusted": true,
        "collapsed": true,
        "_uuid": "8b3f5922ac9f6e0e302f837e7ce17cbe7cdceb0e"
      },
      "cell_type": "code",
      "source": "#q2.solution()",
      "execution_count": null,
      "outputs": []
    },
    {
      "metadata": {
        "_uuid": "60348141dc633cec60bd830d690bdfe7589a16a8"
      },
      "cell_type": "markdown",
      "source": "## 3.\n\nIn the last exercise, I introduced candy-sharing friends Alice, Bob and Carol. As a reminder, they have some candies which they plan to split evenly among themselves. For the sake of their friendship, any candies left over would be smashed. For example, if they collectively bring home 91 candies, they'll take 30 each and smash 1.\n\nEarlier, you wrote some code to calculate how many candies they'd have to smash, assuming they collected a particular number.\n\nBelow is a simple function that will calculate the number of candies to smash for *any* number of total candies.\n\nModify it so that it optionally takes a second argument representing the number of friends the candies are being split between. If no second argument is provided, it should assume 3 friends, as before.\n\nIf you're feeling extra fastidious, update the docstring to reflect this new behaviour (but we won't be checking for this)."
    },
    {
      "metadata": {
        "_uuid": "cbb8ffd5851685e747c70a2c6026563810ce8962",
        "trusted": true
      },
      "cell_type": "code",
      "source": "def to_smash(total_candies, n_friends=3):\n    \"\"\"Return the number of leftover candies that must be smashed after distributing\n    the given number of candies evenly between n friends.\n    \n    >>> to_smash(91)\n    1\n    \"\"\"\n    return total_candies % n_friends\n\nq3.check()",
      "execution_count": null,
      "outputs": []
    },
    {
      "metadata": {
        "collapsed": true,
        "_uuid": "6a0f5b32a442294cc5a60e77bf59b0e91ad2274b",
        "trusted": false
      },
      "cell_type": "code",
      "source": "#q3.hint()",
      "execution_count": null,
      "outputs": []
    },
    {
      "metadata": {
        "collapsed": true,
        "_uuid": "2a4939ed57b79fe717e6effc296270e4be97304c",
        "trusted": false
      },
      "cell_type": "code",
      "source": "#q3.solution()",
      "execution_count": null,
      "outputs": []
    },
    {
      "metadata": {
        "_uuid": "b85a946821fc8e9b0412c7f0f8cc254407c1c0b3"
      },
      "cell_type": "markdown",
      "source": "## 4.\n\nIt may not be fun, but reading and understanding error messages will be an important part of your Python career.\n\nEach code cell below contains some commented-out buggy code. For each cell...\n\n1. Read the code and predict what you think will happen when it's run.\n2. Then uncomment the code and run it to see what happens. (**Tip**: In the kernel editor, you can highlight several lines and press `ctrl`+`/` to toggle commenting.)\n3. Fix the code (so that it accomplishes its intended purpose without throwing an exception)\n\n<!-- TODO: should this be autochecked? Delta is probably pretty small. -->"
    },
    {
      "metadata": {
        "_uuid": "d5c00bb76acd02688cd67ad3814376db544259f9",
        "trusted": true
      },
      "cell_type": "code",
      "source": "# ruound_to_two_places(9.9999)",
      "execution_count": null,
      "outputs": []
    },
    {
      "metadata": {
        "_uuid": "b469303f3e322ceca3e5b1be60f22ca27f97bfaf",
        "trusted": true
      },
      "cell_type": "code",
      "source": "# x = -10\n# y = 5\n# # Which of the two variables above has the smallest absolute value?\n# smallest_abs = min(abs(x, y))",
      "execution_count": null,
      "outputs": []
    },
    {
      "metadata": {
        "_uuid": "bf9843ebf5f59dacd63e8f46ef60e74152b2871d",
        "trusted": true
      },
      "cell_type": "code",
      "source": "# def f(x):\n#     y = abs(x)\n# return y\n\n# print(f(5))",
      "execution_count": null,
      "outputs": []
    },
    {
      "metadata": {
        "_uuid": "e05545a4abade8369afa6a75649136ecf954448b"
      },
      "cell_type": "markdown",
      "source": "## 5. <span title=\"A bit spicy\" style=\"color: darkgreen \">🌶️</span>\n\nFor this question, we'll be using two functions imported from Python's `time` module.\n\nThe [time](https://docs.python.org/3/library/time.html#time.time) function returns the number of seconds that have passed since the Epoch (aka [Unix time](https://en.wikipedia.org/wiki/Unix_time)). \n\n<!-- We've provided a function called `seconds_since_epoch` which returns the number of seconds that have passed since the Epoch (aka [Unix time](https://en.wikipedia.org/wiki/Unix_time)). -->\n\nTry it out below. Each time you run it, you should get a slightly larger number."
    },
    {
      "metadata": {
        "_uuid": "2eae00098d7b43de2a70c3d455e890f80032bb1b",
        "trusted": true
      },
      "cell_type": "code",
      "source": "# Importing the function 'time' from the module of the same name. \n# (We'll discuss imports in more depth later)\nfrom time import time\nt = time()\nprint(t, \"seconds since the Epoch\")",
      "execution_count": null,
      "outputs": []
    },
    {
      "metadata": {
        "_uuid": "6541cb427d99133c62ef484d1796ac954de746c7"
      },
      "cell_type": "markdown",
      "source": "We'll also be using a function called [sleep](https://docs.python.org/3/library/time.html#time.sleep), which makes us wait some number of seconds while it does nothing particular. (Sounds useful, right?)\n\nYou can see it in action by running the cell below:"
    },
    {
      "metadata": {
        "_uuid": "90f19b870f06e28e080cdc0b76b3d5713caf6cc6",
        "trusted": true
      },
      "cell_type": "code",
      "source": "from time import sleep\nduration = 5\nprint(\"Getting sleepy. See you in\", duration, \"seconds\")\nsleep(duration)\nprint(\"I'm back. What did I miss?\")",
      "execution_count": null,
      "outputs": []
    },
    {
      "metadata": {
        "_uuid": "efd421a3afa258bb3d40cbe8f652d16167d05856"
      },
      "cell_type": "markdown",
      "source": "With the help of these functions, complete the function `time_call` below according to its docstring.\n\n<!-- (The sleep function will be useful for testing here since we have a pretty good idea of what something like `time_call(sleep, 1)` should return.) -->"
    },
    {
      "metadata": {
        "trusted": true,
        "collapsed": true,
        "_uuid": "04b73ee3eb4afe645f18360c3ca183fdf460196c"
      },
      "cell_type": "code",
      "source": "help(sleep)",
      "execution_count": null,
      "outputs": []
    },
    {
      "metadata": {
        "_uuid": "85324c48e9a05d4980dfa2ccd98a1bea922cec3d",
        "trusted": true
      },
      "cell_type": "code",
      "source": "def time_call(fn, arg):\n    \"\"\"Return the amount of time the given function takes (in seconds) when called with the given argument.\n    \"\"\"\n    start = time()\n    fn(arg)\n    return time() - start\n\n# test \ntime_call(sleep, 5)",
      "execution_count": null,
      "outputs": []
    },
    {
      "metadata": {
        "_uuid": "14569dcbc3191f81d87fdbbd81c0d7290be41a07"
      },
      "cell_type": "markdown",
      "source": "How can you verify that `time_call` is working correctly? (There's no `q5.check()` function for this question - testing your solution is part of your challenge.)"
    },
    {
      "metadata": {
        "_uuid": "8c6951520ea377e9caef662c91873860b660a8b0",
        "trusted": true
      },
      "cell_type": "code",
      "source": "# q5.hint()",
      "execution_count": null,
      "outputs": []
    },
    {
      "metadata": {
        "_uuid": "203a331fe34462893e45982cd5ad7f81278b9342",
        "trusted": true
      },
      "cell_type": "code",
      "source": "# q5.solution()",
      "execution_count": null,
      "outputs": []
    },
    {
      "metadata": {
        "_uuid": "2408874915443e02c67a32c7e323bbde61032345"
      },
      "cell_type": "markdown",
      "source": "## 6. <span title=\"A bit spicy\" style=\"color: darkgreen \">🌶️</span>\n\n*Note: this question depends on a working solution to the previous question.*\n\nComplete the function below according to its docstring."
    },
    {
      "metadata": {
        "_uuid": "31f7e6b70672effe15e270c957d899c8204213f9",
        "trusted": true
      },
      "cell_type": "code",
      "source": "def slowest_call(fn, arg1, arg2, arg3):\n    \"\"\"Return the amount of time taken by the slowest of the following function\n    calls: fn(arg1), fn(arg2), fn(arg3)\n    \"\"\"\n    return max(time_call(fn,arg1), time_call(fn,arg2), time_call(fn,arg3))\n\n#test\nslowest_call(sleep, 2, 3, 4)",
      "execution_count": null,
      "outputs": []
    },
    {
      "metadata": {
        "collapsed": true,
        "_uuid": "bb92c70de6629c333dab5748732146dad4c6205f",
        "trusted": false
      },
      "cell_type": "code",
      "source": "#q6.hint()",
      "execution_count": null,
      "outputs": []
    },
    {
      "metadata": {
        "_uuid": "1bb444162b1988bcf9fc14680562c281cbb3ac1c",
        "trusted": true
      },
      "cell_type": "code",
      "source": "# q6.solution()",
      "execution_count": null,
      "outputs": []
    },
    {
      "metadata": {
        "_uuid": "06459d1a2963f00de006d9ceb4b52511d71b1d03"
      },
      "cell_type": "markdown",
      "source": "\n\n## 7. <span title=\"A bit spicy\" style=\"color: darkgreen \">🌶️</span>\n\nWhat will Python display after we run the following (weird) code? Think carefully about the order in which Python will evaluate each part. When you have a prediction, uncomment and run the code to check whether you were correct."
    },
    {
      "metadata": {
        "trusted": true,
        "_uuid": "f2417f5740fd7c2b35e83568b02fcef4b97cb5e7"
      },
      "cell_type": "code",
      "source": "help(print)",
      "execution_count": null,
      "outputs": []
    },
    {
      "metadata": {
        "_uuid": "a08f527a34ebedda4bab45ef5bc721e5429d2d77",
        "trusted": true
      },
      "cell_type": "code",
      "source": "print(print(\"Spam\"))",
      "execution_count": null,
      "outputs": []
    },
    {
      "metadata": {
        "collapsed": true,
        "_uuid": "a8eece29a2ba7ba448f4c85e8ada23366a6a1701",
        "trusted": false
      },
      "cell_type": "code",
      "source": "#q7.hint()",
      "execution_count": null,
      "outputs": []
    },
    {
      "metadata": {
        "_uuid": "d18b19e728cd73e7f5c98b49cbe67cd6e22e100a",
        "trusted": true
      },
      "cell_type": "code",
      "source": "# Uncomment for an explanation.\n# q7.solution()",
      "execution_count": null,
      "outputs": []
    },
    {
      "metadata": {
        "_uuid": "134b5fdf19bc2bf689cf9693fcc7828df0fe447f"
      },
      "cell_type": "markdown",
      "source": "## 8. <span title=\"Spicy - this optional problem is intended to be extra difficult\" style=\"color: coral\">🌶️🌶️</span>\n\nRead the function definition below. What do you think will be returned by the function call at the bottom of the cell? Will it match the docstring example? Return something else? Or will Python raise an exception? When you're ready, run the code cell to find out."
    },
    {
      "metadata": {
        "trusted": true,
        "_uuid": "c157252992b8050f8ed79d2e6ffb9288a81d9f84"
      },
      "cell_type": "code",
      "source": "help(min)",
      "execution_count": null,
      "outputs": []
    },
    {
      "metadata": {
        "_uuid": "f8b43075ad9ce492c4d176bc39855a9f733652de",
        "trusted": true
      },
      "cell_type": "code",
      "source": "def smallest_stringy_number(s1, s2, s3):\n    \"\"\"Return whichever of the three string arguments represents the smallest number.\n    \n    >>> smallest_stringy_number('1', '2', '3')\n    '1'\n    \"\"\"\n    return min(s1, s2, s3)\n\nprint(smallest_stringy_number('1', '2', '3'))\nprint(smallest_stringy_number('-1', '-2', '-3'))\nprint(smallest_stringy_number('10', '3', '2'))",
      "execution_count": null,
      "outputs": []
    },
    {
      "metadata": {
        "_uuid": "af87f1f2d1d494c3cd39ea9edef997131fc443f4"
      },
      "cell_type": "markdown",
      "source": "<br/><br/><br/><br/><br/><br/><br/><br/><br/>\n\n(If you thought it would raise an exception, that's a perfectly reasonable guess. A large portion of learning Python is just trying stuff out and seeing what happens! A lot of arbitrary or at least subjective decisions go into designing a programming language, and it's not always possible to deduce from first principles how Python will handle a particular situation.)\n\nBut in this case, the `min` function gamely accepts our string inputs and seems to work as desired! Or, at least on the example in the docstring. However, there's a subtle problem afoot. Try experimenting with the function to see if you can find a set of inputs where it fails. Can you see where it's going wrong?"
    },
    {
      "metadata": {
        "_uuid": "092d13ef62e31bfca6927186cbd16d303df22941",
        "trusted": true
      },
      "cell_type": "code",
      "source": "q8.a.solution()",
      "execution_count": null,
      "outputs": []
    },
    {
      "metadata": {
        "_uuid": "9249ecc0f8a27b6efdda683ad57e5339d360f847"
      },
      "cell_type": "markdown",
      "source": "### b.\n\nIn the cell below, modify `smallest_stringy_number` to fix the bug you identified in part a.\n\nReminder: [In the first lesson](https://www.kaggle.com/colinmorris/hello-python), we briefly saw that `int` can be called on strings such as `'32'` to get the corresponding integer value.\n\n**Bonus**: Can you keep the function's body down to one line? (Try to only use tools we've seen so far - i.e. no loops, conditionals, etc.)"
    },
    {
      "metadata": {
        "trusted": true,
        "_uuid": "a8738e9780f8302b8807fe49094e266fde55c499"
      },
      "cell_type": "code",
      "source": "help(min)",
      "execution_count": null,
      "outputs": []
    },
    {
      "metadata": {
        "_uuid": "d328e154785c24c2f153bc6250f2c6fe57ff23ae",
        "trusted": true
      },
      "cell_type": "code",
      "source": "def smallest_stringy_number(s1, s2, s3):\n    \"\"\"Return whichever of the three string arguments represents the smallest number.\n    \n    >>> smallest_stringy_number('1', '2', '3')\n    '1'\n    \"\"\"\n    return min(s1, s2, s3, key=int)\n\nq8.b.check()",
      "execution_count": null,
      "outputs": []
    },
    {
      "metadata": {
        "collapsed": true,
        "_uuid": "a51c6e0fc5682eb7241ce4ed9398959a9c308b8e",
        "trusted": false
      },
      "cell_type": "code",
      "source": "#q8.b.hint()",
      "execution_count": null,
      "outputs": []
    },
    {
      "metadata": {
        "_uuid": "5bc147d1e5084cf0ae427d3fd7856318de5a251d",
        "trusted": true
      },
      "cell_type": "code",
      "source": "q8.b.solution()",
      "execution_count": null,
      "outputs": []
    },
    {
      "metadata": {
        "_uuid": "21440520ced5dd8daa77a9f4e50233bf5a0bc307"
      },
      "cell_type": "markdown",
      "source": "If you have any questions, be sure to post them on the [forums](https://www.kaggle.com/learn-forum).\n\nRemember that your notebook is private by default, and in order to share it with other people or ask for help with it, you'll need to make it public. First, you'll need to save a version of your notebook that shows your current work by hitting the \"Commit & Run\" button. (Your work is saved automatically, but versioning your work lets you go back and look at what it was like at the point you saved it. It also let's you share a nice compiled notebook instead of just the raw code.) Then, once your notebook is finished running, you can go to the Settings tab in the panel to the left (you may have to expand it by hitting the [<] button next to the \"Commit & Run\" button) and setting the \"Visibility\" dropdown to \"Public\".\n\n# Keep Going\n\nWhen you're ready to continue, [click here](https://www.kaggle.com/colinmorris/booleans-and-conditionals) to continue on to the next tutorial on booleans and conditionals."
    }
  ],
  "metadata": {
    "kernelspec": {
      "display_name": "Python 3",
      "language": "python",
      "name": "python3"
    },
    "language_info": {
      "name": "python",
      "version": "3.6.6",
      "mimetype": "text/x-python",
      "codemirror_mode": {
        "name": "ipython",
        "version": 3
      },
      "pygments_lexer": "ipython3",
      "nbconvert_exporter": "python",
      "file_extension": ".py"
    },
    "learntools_metadata": {
      "lesson_index": 1,
      "type": "exercise"
    }
  },
  "nbformat": 4,
  "nbformat_minor": 1
}